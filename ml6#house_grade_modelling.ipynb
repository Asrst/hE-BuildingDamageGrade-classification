{
 "cells": [
  {
   "cell_type": "code",
   "execution_count": 2,
   "metadata": {},
   "outputs": [],
   "source": [
    "import os\n",
    "import pandas as pd\n",
    "import matplotlib as mlt\n",
    "import numpy as np\n",
    "from scipy.stats import chi2_contingency"
   ]
  },
  {
   "cell_type": "code",
   "execution_count": 3,
   "metadata": {},
   "outputs": [],
   "source": [
    "import lightgbm as lgb\n",
    "from sklearn.model_selection import KFold\n",
    "import matplotlib.pyplot as plt\n",
    "import seaborn as sns\n",
    "\n",
    "from feature_selector import FeatureSelector"
   ]
  },
  {
   "cell_type": "code",
   "execution_count": 4,
   "metadata": {},
   "outputs": [],
   "source": [
    "os.chdir('C:\\\\Users\\\\hp\\\\Desktop\\\\ml6#House_grade\\\\Dataset')"
   ]
  },
  {
   "cell_type": "code",
   "execution_count": 5,
   "metadata": {},
   "outputs": [],
   "source": [
    "Bownership = pd.read_csv('Building_Ownership_Use.csv')\n",
    "Bstructure = pd.read_csv('Building_Structure.csv')\n",
    "itrain = pd.read_csv('train.csv')\n",
    "itest = pd.read_csv('test.csv')"
   ]
  },
  {
   "cell_type": "code",
   "execution_count": 6,
   "metadata": {},
   "outputs": [],
   "source": [
    "#Bdata.shape"
   ]
  },
  {
   "cell_type": "code",
   "execution_count": 7,
   "metadata": {},
   "outputs": [],
   "source": [
    "#Bdata = pd.merge(Bownership, Bstructure, how='left', on=['building_id','district_id', 'vdcmun_id', 'ward_id'])"
   ]
  },
  {
   "cell_type": "code",
   "execution_count": 8,
   "metadata": {},
   "outputs": [],
   "source": [
    "#Bdata_nan_rows = Bdata[Bdata.isnull().T.any().T]"
   ]
  },
  {
   "cell_type": "code",
   "execution_count": 9,
   "metadata": {},
   "outputs": [
    {
     "data": {
      "text/plain": [
       "area_assesed                                 0\n",
       "building_id                                  0\n",
       "damage_grade                                 0\n",
       "district_id                                  0\n",
       "has_geotechnical_risk                        0\n",
       "has_geotechnical_risk_fault_crack            0\n",
       "has_geotechnical_risk_flood                  0\n",
       "has_geotechnical_risk_land_settlement        0\n",
       "has_geotechnical_risk_landslide              0\n",
       "has_geotechnical_risk_liquefaction           0\n",
       "has_geotechnical_risk_other                  0\n",
       "has_geotechnical_risk_rock_fall              0\n",
       "has_repair_started                       33417\n",
       "vdcmun_id                                    0\n",
       "dtype: int64"
      ]
     },
     "metadata": {},
     "output_type": "display_data"
    },
    {
     "data": {
      "text/plain": [
       "area_assesed                                 0\n",
       "building_id                                  0\n",
       "district_id                                  0\n",
       "has_geotechnical_risk                        0\n",
       "has_geotechnical_risk_fault_crack            0\n",
       "has_geotechnical_risk_flood                  0\n",
       "has_geotechnical_risk_land_settlement        0\n",
       "has_geotechnical_risk_landslide              0\n",
       "has_geotechnical_risk_liquefaction           0\n",
       "has_geotechnical_risk_other                  0\n",
       "has_geotechnical_risk_rock_fall              0\n",
       "has_repair_started                       21922\n",
       "vdcmun_id                                    0\n",
       "dtype: int64"
      ]
     },
     "execution_count": 9,
     "metadata": {},
     "output_type": "execute_result"
    }
   ],
   "source": [
    "display(itrain.isnull().sum())\n",
    "itest.isnull().sum()"
   ]
  },
  {
   "cell_type": "code",
   "execution_count": 10,
   "metadata": {},
   "outputs": [],
   "source": [
    "#zero_rows = Bdata[Bdata.count_families == 0]"
   ]
  },
  {
   "cell_type": "code",
   "execution_count": 11,
   "metadata": {},
   "outputs": [
    {
     "data": {
      "text/plain": [
       "1052936"
      ]
     },
     "execution_count": 11,
     "metadata": {},
     "output_type": "execute_result"
    }
   ],
   "source": [
    "total = len(itest)+len(itrain)\n",
    "total"
   ]
  },
  {
   "cell_type": "code",
   "execution_count": 12,
   "metadata": {},
   "outputs": [
    {
     "data": {
      "text/plain": [
       "array(['Both', 'Building removed', 'Not able to inspect', 'Exterior',\n",
       "       'Interior'], dtype=object)"
      ]
     },
     "execution_count": 12,
     "metadata": {},
     "output_type": "execute_result"
    }
   ],
   "source": [
    "itest_nan_rows = itest[itest.isnull().T.any().T]\n",
    "itest['area_assesed'].unique()"
   ]
  },
  {
   "cell_type": "code",
   "execution_count": 13,
   "metadata": {},
   "outputs": [],
   "source": [
    "num_col = ['count_floors_pre_eq', 'count_floors_post_eq', 'age_building', 'plinth_area_sq_ft', 'height_ft_pre_eq', \n",
    "           'height_ft_post_eq ']"
   ]
  },
  {
   "cell_type": "code",
   "execution_count": 14,
   "metadata": {},
   "outputs": [],
   "source": [
    "itrain_1 = itrain.drop('damage_grade', axis=1)"
   ]
  },
  {
   "cell_type": "code",
   "execution_count": 15,
   "metadata": {},
   "outputs": [],
   "source": [
    "#length of itrain data = 631761\n",
    "itrain_len = len(itrain)"
   ]
  },
  {
   "cell_type": "code",
   "execution_count": 16,
   "metadata": {},
   "outputs": [],
   "source": [
    "tt_data = pd.concat(objs=[itrain_1, itest], axis=0)"
   ]
  },
  {
   "cell_type": "code",
   "execution_count": 17,
   "metadata": {},
   "outputs": [],
   "source": [
    "tt_01 = pd.merge(tt_data, Bownership, how='left', on=['building_id','district_id', 'vdcmun_id'])"
   ]
  },
  {
   "cell_type": "code",
   "execution_count": 18,
   "metadata": {},
   "outputs": [],
   "source": [
    "tt_master = pd.merge(tt_01, Bstructure, how='left', on=['building_id','district_id', 'vdcmun_id', 'ward_id'])"
   ]
  },
  {
   "cell_type": "code",
   "execution_count": 19,
   "metadata": {},
   "outputs": [],
   "source": [
    "tt_master['has_repair_started'] = tt_master['has_repair_started'].replace(np.nan, 2)"
   ]
  },
  {
   "cell_type": "code",
   "execution_count": 20,
   "metadata": {},
   "outputs": [
    {
     "data": {
      "text/plain": [
       "22706   NaN\n",
       "Name: count_families, dtype: float64"
      ]
     },
     "execution_count": 20,
     "metadata": {},
     "output_type": "execute_result"
    }
   ],
   "source": [
    "nan_row = tt_master[tt_master.isnull().T.any().T]\n",
    "nan_row['count_families']"
   ]
  },
  {
   "cell_type": "code",
   "execution_count": 21,
   "metadata": {},
   "outputs": [
    {
     "data": {
      "text/plain": [
       "array([ 2.,  1.,  0.,  4.,  3.,  5.,  9.,  6., nan,  7., 11.,  8.])"
      ]
     },
     "execution_count": 21,
     "metadata": {},
     "output_type": "execute_result"
    }
   ],
   "source": [
    "tt_master['count_families'].unique()"
   ]
  },
  {
   "cell_type": "code",
   "execution_count": 22,
   "metadata": {},
   "outputs": [
    {
     "data": {
      "text/plain": [
       "1.0     913095\n",
       "0.0      84304\n",
       "2.0      46244\n",
       "3.0       7075\n",
       "4.0       1618\n",
       "5.0        413\n",
       "6.0        128\n",
       "7.0         33\n",
       "8.0         16\n",
       "9.0          8\n",
       "11.0         1\n",
       "Name: count_families, dtype: int64"
      ]
     },
     "execution_count": 22,
     "metadata": {},
     "output_type": "execute_result"
    }
   ],
   "source": [
    "tt_master['count_families'].value_counts()"
   ]
  },
  {
   "cell_type": "code",
   "execution_count": 23,
   "metadata": {},
   "outputs": [],
   "source": [
    "#only one value in the'has_repair_started' is missing - so removing that row: 22706\n",
    "#types = [2.,  1.,  0.,  4.,  3.,  5.,  9.,  6., 7., 11.,  8.]\n",
    "#for i in range(0,len(types)):\n",
    " #   print(len(tt_master[tt_master.count_families == types[i]]))"
   ]
  },
  {
   "cell_type": "code",
   "execution_count": 24,
   "metadata": {},
   "outputs": [],
   "source": [
    "#using skelearn_imputer, it impute with '1' as they are most frequent\n",
    "from sklearn.preprocessing import Imputer\n",
    "imp =Imputer(missing_values=\"NaN\", strategy=\"median\" )\n",
    "tt_master[\"count_families\"] = imp.fit_transform(tt_master[[\"count_families\"]])"
   ]
  },
  {
   "cell_type": "code",
   "execution_count": 25,
   "metadata": {},
   "outputs": [],
   "source": [
    "#pd.set_option('display.max_columns', None)\n",
    "#tt_master.dtypes"
   ]
  },
  {
   "cell_type": "code",
   "execution_count": 26,
   "metadata": {},
   "outputs": [],
   "source": [
    "#buildingId = tt_master['building_id']"
   ]
  },
  {
   "cell_type": "code",
   "execution_count": 27,
   "metadata": {},
   "outputs": [],
   "source": [
    "tt_cat = tt_master.drop(['building_id'], axis =1)"
   ]
  },
  {
   "cell_type": "code",
   "execution_count": 28,
   "metadata": {},
   "outputs": [],
   "source": [
    "one_hot_encoded = pd.get_dummies(tt_cat)"
   ]
  },
  {
   "cell_type": "code",
   "execution_count": 29,
   "metadata": {},
   "outputs": [],
   "source": [
    "one_hot_encoded['building_id'] = tt_master['building_id']"
   ]
  },
  {
   "cell_type": "code",
   "execution_count": 30,
   "metadata": {},
   "outputs": [
    {
     "data": {
      "text/plain": [
       "(1052936, 93)"
      ]
     },
     "execution_count": 30,
     "metadata": {},
     "output_type": "execute_result"
    }
   ],
   "source": [
    "one_hot_encoded.shape"
   ]
  },
  {
   "cell_type": "code",
   "execution_count": 31,
   "metadata": {},
   "outputs": [],
   "source": [
    "ftrain = one_hot_encoded[:itrain_len]\n",
    "ftest = one_hot_encoded[itrain_len:]"
   ]
  },
  {
   "cell_type": "code",
   "execution_count": 78,
   "metadata": {},
   "outputs": [],
   "source": [
    "rm_col = ['plan_configuration_H-shape', 'has_secondary_use_gov_office', 'has_secondary_use_use_police', \n",
    "            'has_secondary_use_health_post', 'plan_configuration_E-shape', 'plan_configuration_Building with Central Courtyard', \n",
    "            'has_secondary_use_school','plan_configuration_U-shape', 'has_secondary_use_institution', 'condition_post_eq_Covered by landslide', \n",
    "            'has_secondary_use_industry', 'plan_configuration_T-shape', 'plan_configuration_Others', 'plan_configuration_Multi-projected', \n",
    "            'has_geotechnical_risk_other','ground_floor_type_Other', 'has_geotechnical_risk_liquefaction', 'area_assesed_Interior', \n",
    "            'position_Attached-3 side', 'condition_post_eq_Damaged-Rubble Clear-New building built', 'legal_ownership_status_Other',\n",
    "            'has_secondary_use_rental', 'plan_configuration_L-shape', 'legal_ownership_status_Institutional', \n",
    "            'area_assesed_Not able to inspect', 'has_geotechnical_risk_flood', 'foundation_type_Other', 'has_superstructure_rc_engineered', \n",
    "            'plan_configuration_Square', 'has_secondary_use_other', 'has_secondary_use_hotel', 'legal_ownership_status_Public', \n",
    "            'plan_configuration_Rectangular', 'has_superstructure_cement_mortar_stone', 'has_superstructure_other', \n",
    "            'position_Attached-2 side', 'foundation_type_Cement-Stone/Brick', \n",
    "            'has_geotechnical_risk_rock_fall', 'legal_ownership_status_Private', 'other_floor_type_RCC/RB/RBC','condition_post_eq_Damaged-Rubble clear', \n",
    "            'has_geotechnical_risk_fault_crack', 'land_surface_condition_Steep slope', 'ground_floor_type_Timber', 'condition_post_eq_Damaged-Rubble unclear', \n",
    "            'foundation_type_Bamboo/Timber', 'has_geotechnical_risk_landslide', 'has_geotechnical_risk_land_settlement', 'roof_type_RCC/RB/RBC', \n",
    "            'has_superstructure_stone_flag', 'has_secondary_use_agriculture', 'position_Attached-1 side', 'has_superstructure_mud_mortar_brick', \n",
    "            'has_superstructure_rc_non_engineered', 'has_secondary_use', 'foundation_type_RC', 'ground_floor_type_Brick/Stone', \n",
    "            'land_surface_condition_Moderate slope', 'has_superstructure_adobe_mud', 'has_superstructure_bamboo',\n",
    "            'building_id' ]"
   ]
  },
  {
   "cell_type": "code",
   "execution_count": 86,
   "metadata": {},
   "outputs": [],
   "source": [
    "#!pip install -U imbalanced-learn\n",
    "dump_col = rm_col[0:40]\n",
    "dump_col.append('building_id')"
   ]
  },
  {
   "cell_type": "code",
   "execution_count": 94,
   "metadata": {},
   "outputs": [],
   "source": [
    "damage_predictors = ftrain.drop(dump_col, axis = 1)\n",
    "var_target = itrain['damage_grade']"
   ]
  },
  {
   "cell_type": "code",
   "execution_count": 96,
   "metadata": {},
   "outputs": [
    {
     "data": {
      "text/plain": [
       "dict_items([('Grade 4', 152244), ('Grade 2', 85084), ('Grade 1', 61320), ('Grade 5', 210825), ('Grade 3', 122288)])"
      ]
     },
     "execution_count": 96,
     "metadata": {},
     "output_type": "execute_result"
    }
   ],
   "source": [
    "from collections import Counter\n",
    "Counter(var_target).items()"
   ]
  },
  {
   "cell_type": "code",
   "execution_count": 37,
   "metadata": {},
   "outputs": [
    {
     "data": {
      "text/plain": [
       "Grade 5    210825\n",
       "Grade 4    152244\n",
       "Grade 3    122288\n",
       "Grade 2     85084\n",
       "Grade 1     61320\n",
       "Name: damage_grade, dtype: int64"
      ]
     },
     "execution_count": 37,
     "metadata": {},
     "output_type": "execute_result"
    }
   ],
   "source": [
    "itrain['damage_grade'].value_counts()"
   ]
  },
  {
   "cell_type": "code",
   "execution_count": null,
   "metadata": {},
   "outputs": [],
   "source": [
    "#fs = FeatureSelector(data = damage_predictors, labels = var_target)"
   ]
  },
  {
   "cell_type": "code",
   "execution_count": 98,
   "metadata": {},
   "outputs": [
    {
     "data": {
      "text/plain": [
       "(421175, 52)"
      ]
     },
     "metadata": {},
     "output_type": "display_data"
    },
    {
     "data": {
      "text/plain": [
       "(631761, 52)"
      ]
     },
     "execution_count": 98,
     "metadata": {},
     "output_type": "execute_result"
    }
   ],
   "source": [
    "#fs.record_collinear\n",
    "display(test_set.shape)\n",
    "damage_predictors.shape"
   ]
  },
  {
   "cell_type": "code",
   "execution_count": null,
   "metadata": {},
   "outputs": [],
   "source": [
    "#train_set.to_csv('train_set.csv', index = False)\n",
    "#ftest.to_csv('test_set.csv', index = False)"
   ]
  },
  {
   "cell_type": "code",
   "execution_count": null,
   "metadata": {},
   "outputs": [],
   "source": [
    "#df = pd.read_csv('test_set.csv')"
   ]
  },
  {
   "cell_type": "code",
   "execution_count": null,
   "metadata": {},
   "outputs": [],
   "source": [
    "from collections import Counter\n",
    "def get_class_weights(y, smooth_factor=0):\n",
    "    \"\"\"\n",
    "    Returns the weights for each class based on the frequencies of the samples\n",
    "    :param smooth_factor: factor that smooths extremely uneven weights\n",
    "    :param y: list of true labels (the labels must be hashable)\n",
    "    :return: dictionary with the weight for each class\n",
    "    \"\"\"\n",
    "    counter = Counter(y)\n",
    "\n",
    "    if smooth_factor > 0:\n",
    "        p = max(counter.values()) * smooth_factor\n",
    "        for k in counter.keys():\n",
    "            counter[k] += p\n",
    "\n",
    "    majority = max(counter.values())\n",
    "\n",
    "    return {cls: float(majority) / count for cls, count in counter.items()}"
   ]
  },
  {
   "cell_type": "code",
   "execution_count": null,
   "metadata": {
    "scrolled": true
   },
   "outputs": [],
   "source": [
    "class_weights = get_class_weights(var_target)\n",
    "class_weights"
   ]
  },
  {
   "cell_type": "code",
   "execution_count": 39,
   "metadata": {},
   "outputs": [],
   "source": [
    "#importing packages from sk learn\n",
    "from sklearn.ensemble import RandomForestClassifier\n",
    "from sklearn.datasets import make_classification\n",
    "from sklearn.model_selection import train_test_split\n",
    "from sklearn.metrics import roc_auc_score\n",
    "\n",
    "#FUNCTION for Train & Validation set\n",
    "X_train, X_test, y_train, y_test = train_test_split(damage_predictors, var_target, train_size=0.7, test_size=0.3, random_state=0)"
   ]
  },
  {
   "cell_type": "code",
   "execution_count": 72,
   "metadata": {},
   "outputs": [
    {
     "data": {
      "text/plain": [
       "array(['Grade 4', 'Grade 3', 'Grade 3', ..., 'Grade 1', 'Grade 5',\n",
       "       'Grade 5'], dtype=object)"
      ]
     },
     "metadata": {},
     "output_type": "display_data"
    }
   ],
   "source": [
    "model = RandomForestClassifier(n_estimators = 699, max_features = '25', min_samples_leaf = 3, min_samples_split = 11, n_jobs = -1,\n",
    "                              class_weight = {'Grade 1': 3.4381115459882583, 'Grade 2': 2.47784542334634, \n",
    "                                              'Grade 3': 1.7240039905796154,'Grade 4': 1.3847836367935682,'Grade 5': 1.0})\n",
    "model.fit(X_train, y_train)\n",
    "predicted_val = model.predict(X_test)\n",
    "display(predicted_val)"
   ]
  },
  {
   "cell_type": "code",
   "execution_count": 55,
   "metadata": {},
   "outputs": [],
   "source": [
    "#clf_probs = model.predict_proba(X_test)\n",
    "#print((clf_probs[:,3] > 0.5).astype(int))"
   ]
  },
  {
   "cell_type": "code",
   "execution_count": 73,
   "metadata": {},
   "outputs": [
    {
     "name": "stdout",
     "output_type": "stream",
     "text": [
      "0.7649225184536403\n"
     ]
    }
   ],
   "source": [
    "from sklearn.metrics import accuracy_score\n",
    "pscore = accuracy_score(y_test, predicted_val)\n",
    "print(pscore)"
   ]
  },
  {
   "cell_type": "code",
   "execution_count": 74,
   "metadata": {},
   "outputs": [
    {
     "data": {
      "text/plain": [
       "0.7668124282458401"
      ]
     },
     "execution_count": 74,
     "metadata": {},
     "output_type": "execute_result"
    }
   ],
   "source": [
    "from sklearn.metrics import f1_score\n",
    "f1_score(y_test, predicted_val, average='weighted')"
   ]
  },
  {
   "cell_type": "code",
   "execution_count": 58,
   "metadata": {},
   "outputs": [],
   "source": [
    "from sklearn.metrics import confusion_matrix\n",
    "CM = confusion_matrix(y_test, predicted_val)"
   ]
  },
  {
   "cell_type": "code",
   "execution_count": 59,
   "metadata": {},
   "outputs": [
    {
     "data": {
      "text/html": [
       "<div>\n",
       "<style>\n",
       "    .dataframe thead tr:only-child th {\n",
       "        text-align: right;\n",
       "    }\n",
       "\n",
       "    .dataframe thead th {\n",
       "        text-align: left;\n",
       "    }\n",
       "\n",
       "    .dataframe tbody tr th {\n",
       "        vertical-align: top;\n",
       "    }\n",
       "</style>\n",
       "<table border=\"1\" class=\"dataframe\">\n",
       "  <thead>\n",
       "    <tr style=\"text-align: right;\">\n",
       "      <th>col_0</th>\n",
       "      <th>Grade 1</th>\n",
       "      <th>Grade 2</th>\n",
       "      <th>Grade 3</th>\n",
       "      <th>Grade 4</th>\n",
       "      <th>Grade 5</th>\n",
       "    </tr>\n",
       "    <tr>\n",
       "      <th>damage_grade</th>\n",
       "      <th></th>\n",
       "      <th></th>\n",
       "      <th></th>\n",
       "      <th></th>\n",
       "      <th></th>\n",
       "    </tr>\n",
       "  </thead>\n",
       "  <tbody>\n",
       "    <tr>\n",
       "      <th>Grade 1</th>\n",
       "      <td>16230</td>\n",
       "      <td>1741</td>\n",
       "      <td>211</td>\n",
       "      <td>45</td>\n",
       "      <td>0</td>\n",
       "    </tr>\n",
       "    <tr>\n",
       "      <th>Grade 2</th>\n",
       "      <td>959</td>\n",
       "      <td>16327</td>\n",
       "      <td>6054</td>\n",
       "      <td>2006</td>\n",
       "      <td>2</td>\n",
       "    </tr>\n",
       "    <tr>\n",
       "      <th>Grade 3</th>\n",
       "      <td>306</td>\n",
       "      <td>9028</td>\n",
       "      <td>18418</td>\n",
       "      <td>8980</td>\n",
       "      <td>10</td>\n",
       "    </tr>\n",
       "    <tr>\n",
       "      <th>Grade 4</th>\n",
       "      <td>37</td>\n",
       "      <td>2684</td>\n",
       "      <td>8565</td>\n",
       "      <td>34358</td>\n",
       "      <td>53</td>\n",
       "    </tr>\n",
       "    <tr>\n",
       "      <th>Grade 5</th>\n",
       "      <td>4</td>\n",
       "      <td>98</td>\n",
       "      <td>286</td>\n",
       "      <td>2580</td>\n",
       "      <td>60547</td>\n",
       "    </tr>\n",
       "  </tbody>\n",
       "</table>\n",
       "</div>"
      ],
      "text/plain": [
       "col_0         Grade 1  Grade 2  Grade 3  Grade 4  Grade 5\n",
       "damage_grade                                             \n",
       "Grade 1         16230     1741      211       45        0\n",
       "Grade 2           959    16327     6054     2006        2\n",
       "Grade 3           306     9028    18418     8980       10\n",
       "Grade 4            37     2684     8565    34358       53\n",
       "Grade 5             4       98      286     2580    60547"
      ]
     },
     "execution_count": 59,
     "metadata": {},
     "output_type": "execute_result"
    }
   ],
   "source": [
    "SeeCM = pd.crosstab(y_test, predicted_val)\n",
    "SeeCM"
   ]
  },
  {
   "cell_type": "code",
   "execution_count": 102,
   "metadata": {
    "collapsed": true
   },
   "outputs": [
    {
     "name": "stdout",
     "output_type": "stream",
     "text": [
      "district_id = 0.01021309670805091\n",
      "has_geotechnical_risk = 0.002735942773674494\n",
      "has_geotechnical_risk_fault_crack = 0.0009128250510047413\n",
      "has_geotechnical_risk_flood = 0.00026154848553002326\n",
      "has_geotechnical_risk_land_settlement = 0.0012095580707565227\n",
      "has_geotechnical_risk_landslide = 0.001412675042236027\n",
      "has_geotechnical_risk_liquefaction = 9.384361394657121e-05\n",
      "has_geotechnical_risk_other = 1.7750886298928432e-05\n",
      "has_geotechnical_risk_rock_fall = 0.000817624485911062\n",
      "has_repair_started = 0.0766596922857362\n",
      "vdcmun_id = 0.04661090690456459\n",
      "ward_id = 0.07365705426846134\n",
      "count_families = 0.0045855478304934775\n",
      "has_secondary_use = 0.002639229683661319\n",
      "has_secondary_use_agriculture = 0.0018414836014074296\n",
      "has_secondary_use_hotel = 0.0007954006506430878\n",
      "has_secondary_use_rental = 0.00019820669086662932\n",
      "has_secondary_use_institution = 5.9385194317898665e-06\n",
      "has_secondary_use_school = 1.4964711620219256e-06\n",
      "has_secondary_use_industry = 7.676253215766047e-06\n",
      "has_secondary_use_health_post = 0.0\n",
      "has_secondary_use_gov_office = 0.0\n",
      "has_secondary_use_use_police = 0.0\n",
      "has_secondary_use_other = 0.0003570908027550971\n",
      "count_floors_pre_eq = 0.0071189560777103825\n",
      "count_floors_post_eq = 0.14113982753238416\n",
      "age_building = 0.04054075740431372\n",
      "plinth_area_sq_ft = 0.047856322382323964\n",
      "height_ft_pre_eq = 0.022999736360218802\n",
      "height_ft_post_eq = 0.14966857241207449\n",
      "has_superstructure_adobe_mud = 0.002538761405258951\n",
      "has_superstructure_mud_mortar_stone = 0.0063624153053558515\n",
      "has_superstructure_stone_flag = 0.0014346485176967463\n",
      "has_superstructure_cement_mortar_stone = 0.0007894328801413889\n",
      "has_superstructure_mud_mortar_brick = 0.0018043081532061773\n",
      "has_superstructure_cement_mortar_brick = 0.0028240609204770698\n",
      "has_superstructure_timber = 0.005604413206315455\n",
      "has_superstructure_bamboo = 0.002615580547654456\n",
      "has_superstructure_rc_non_engineered = 0.0018325636742708195\n",
      "has_superstructure_rc_engineered = 0.0002926406872168243\n",
      "has_superstructure_other = 0.0007039461939748231\n",
      "area_assesed_Both = 0.014436134971588464\n",
      "area_assesed_Building removed = 0.024443911242511326\n",
      "area_assesed_Exterior = 0.0035140240105752895\n",
      "area_assesed_Interior = 0.00012125785439126631\n",
      "area_assesed_Not able to inspect = 0.0001742787317715388\n",
      "legal_ownership_status_Institutional = 0.00021487631250579855\n",
      "legal_ownership_status_Other = 0.00013174447428308006\n",
      "legal_ownership_status_Private = 0.0008637506723238261\n",
      "legal_ownership_status_Public = 0.0005610855731321306\n",
      "land_surface_condition_Flat = 0.0036867686896859125\n",
      "land_surface_condition_Moderate slope = 0.0030480265000080316\n",
      "land_surface_condition_Steep slope = 0.0010593200994107894\n",
      "foundation_type_Bamboo/Timber = 0.0008900129710053592\n",
      "foundation_type_Cement-Stone/Brick = 0.0008551424378916763\n",
      "foundation_type_Mud mortar-Stone/Brick = 0.008811823002661187\n",
      "foundation_type_Other = 0.00019369964240318686\n",
      "foundation_type_RC = 0.0020077020387171455\n",
      "roof_type_Bamboo/Timber-Heavy roof = 0.0031870207871128576\n",
      "roof_type_Bamboo/Timber-Light roof = 0.0035001705881600315\n",
      "roof_type_RCC/RB/RBC = 0.0022507042006290564\n",
      "ground_floor_type_Brick/Stone = 0.0025045586771452323\n",
      "ground_floor_type_Mud = 0.0035543029859054723\n",
      "ground_floor_type_Other = 3.5244009890080735e-05\n",
      "ground_floor_type_RC = 0.008126523879575898\n",
      "ground_floor_type_Timber = 0.0005468481861257201\n",
      "other_floor_type_Not applicable = 0.003079915881918701\n",
      "other_floor_type_RCC/RB/RBC = 0.0006648627022045631\n",
      "other_floor_type_TImber/Bamboo-Mud = 0.005125755641752939\n",
      "other_floor_type_Timber-Planck = 0.003131702114247591\n",
      "position_Attached-1 side = 0.0027147084800004328\n",
      "position_Attached-2 side = 0.0009296728270475804\n",
      "position_Attached-3 side = 0.0001426697175916846\n",
      "position_Not attached = 0.003151218007719063\n",
      "plan_configuration_Building with Central Courtyard = 2.540252203218049e-07\n",
      "plan_configuration_E-shape = 1.3988639126168093e-07\n",
      "plan_configuration_H-shape = 0.0\n",
      "plan_configuration_L-shape = 0.0003045641653344146\n",
      "plan_configuration_Multi-projected = 1.3712019492138786e-05\n",
      "plan_configuration_Others = 1.1557462275115275e-05\n",
      "plan_configuration_Rectangular = 0.000948594198867157\n",
      "plan_configuration_Square = 0.00047476159227592874\n",
      "plan_configuration_T-shape = 1.1301495418611062e-05\n",
      "plan_configuration_U-shape = 2.218546793278314e-06\n",
      "condition_post_eq_Covered by landslide = 7.1571136128954175e-06\n",
      "condition_post_eq_Damaged-Not used = 0.037130040489856124\n",
      "condition_post_eq_Damaged-Repaired and used = 0.0178011152527365\n",
      "condition_post_eq_Damaged-Rubble Clear-New building built = 7.859761981735344e-05\n",
      "condition_post_eq_Damaged-Rubble clear = 0.0021924849906672108\n",
      "condition_post_eq_Damaged-Rubble unclear = 0.008701243268511499\n",
      "condition_post_eq_Damaged-Used in risk = 0.014099521427645135\n",
      "condition_post_eq_Not damaged = 0.14940176579278974\n"
     ]
    }
   ],
   "source": [
    "#for name, importance in zip(X_train.columns, model.feature_importances_): \n",
    "#   print(name, \"=\", importance)\n",
    "#feat_importances = pd.Series(model.feature_importances_, index=X_train.columns)\n",
    "#feat_importances.nlargest(4).plot(kind='barh')\n"
   ]
  },
  {
   "cell_type": "code",
   "execution_count": 53,
   "metadata": {},
   "outputs": [
    {
     "data": {
      "image/png": "[encoded data removed]",
      "text/plain": [
       "<matplotlib.figure.Figure at 0x15da1508898>"
      ]
     },
     "metadata": {},
     "output_type": "display_data"
    }
   ],
   "source": [
    ">>> features = X_train.columns\n",
    ">>> importances = model.feature_importances_\n",
    ">>> indices = np.argsort(importances)\n",
    "col_names = []\n",
    "for i in indices:\n",
    "    n = features[i]\n",
    "    col_names.append(n)\n",
    "\n",
    ">>> plt.title('Feature Importances')\n",
    ">>> plt.barh(range(len(indices)), importances[indices], color='b', align='center')\n",
    ">>> plt.yticks(range(len(indices)), [features[i] for i in indices])\n",
    ">>> plt.xlabel('Relative Importance')\n",
    ">>> plt.show()"
   ]
  },
  {
   "cell_type": "code",
   "execution_count": 99,
   "metadata": {},
   "outputs": [],
   "source": [
    "test_set = ftest.drop(dump_col, axis = 1)"
   ]
  },
  {
   "cell_type": "code",
   "execution_count": 100,
   "metadata": {},
   "outputs": [
    {
     "data": {
      "text/plain": [
       "array(['Grade 2', 'Grade 5', 'Grade 5', ..., 'Grade 1', 'Grade 5',\n",
       "       'Grade 5'], dtype=object)"
      ]
     },
     "metadata": {},
     "output_type": "display_data"
    }
   ],
   "source": [
    "#n_estimators = 599,max_features = 34,min_samples_leaf = 3,min_samples_split=11,class_weight = 'balanced_subsample'(77.4,74.4)\n",
    "#n=799, 77.25 (All)\n",
    "#n=999, 77.22 \n",
    "#n_estimators = 599, max_features = 43, min_samples_leaf = 5, min_samples_split=16, n_jobs = -1, 77.17\n",
    "#n_estimators = 599, max_features = 34, min_samples_leaf = 7, min_samples_split=25, n_jobs = -1, 77.03 (72 features)\n",
    "# n_estimators = 999, max_features = 34, min_samples_leaf = 7, min_samples_split=16, n_jobs = -1, 77.05 (52 features)\n",
    "# n_estimators = 999, max_features = 25, min_samples_leaf = 3, min_samples_split=11, n_jobs = -1, 77.35 (52)\n",
    "#n_estimators = 999, max_features = 16, min_samples_leaf = 3, min_samples_split=11, n_jobs = -1, 77.24 (32)\n",
    "#n_estimators = 1299, max_features = 16, min_samples_leaf = 3, min_samples_split=13, n_jobs = -1, 77.17 (32)\n",
    "\n",
    "\n",
    "trainModel = RandomForestClassifier(n_estimators = 599, max_features = 26, min_samples_leaf = 3, min_samples_split = 11, \n",
    "                                    n_jobs = -1, class_weight = 'balanced_subsample')\n",
    "trainModel.fit(damage_predictors, var_target)\n",
    "predictions = trainModel.predict(test_set)\n",
    "display(predictions)"
   ]
  },
  {
   "cell_type": "code",
   "execution_count": 101,
   "metadata": {},
   "outputs": [
    {
     "data": {
      "text/html": [
       "<div>\n",
       "<style>\n",
       "    .dataframe thead tr:only-child th {\n",
       "        text-align: right;\n",
       "    }\n",
       "\n",
       "    .dataframe thead th {\n",
       "        text-align: left;\n",
       "    }\n",
       "\n",
       "    .dataframe tbody tr th {\n",
       "        vertical-align: top;\n",
       "    }\n",
       "</style>\n",
       "<table border=\"1\" class=\"dataframe\">\n",
       "  <thead>\n",
       "    <tr style=\"text-align: right;\">\n",
       "      <th></th>\n",
       "      <th>building_id</th>\n",
       "      <th>damage_grade</th>\n",
       "    </tr>\n",
       "  </thead>\n",
       "  <tbody>\n",
       "    <tr>\n",
       "      <th>631761</th>\n",
       "      <td>a3380c4f75</td>\n",
       "      <td>Grade 2</td>\n",
       "    </tr>\n",
       "    <tr>\n",
       "      <th>631762</th>\n",
       "      <td>a338a4e653</td>\n",
       "      <td>Grade 5</td>\n",
       "    </tr>\n",
       "    <tr>\n",
       "      <th>631763</th>\n",
       "      <td>a338a4e6b7</td>\n",
       "      <td>Grade 5</td>\n",
       "    </tr>\n",
       "    <tr>\n",
       "      <th>631764</th>\n",
       "      <td>a33a6eaa3a</td>\n",
       "      <td>Grade 3</td>\n",
       "    </tr>\n",
       "    <tr>\n",
       "      <th>631765</th>\n",
       "      <td>a33b073ff6</td>\n",
       "      <td>Grade 5</td>\n",
       "    </tr>\n",
       "    <tr>\n",
       "      <th>631766</th>\n",
       "      <td>6604e4896c6</td>\n",
       "      <td>Grade 3</td>\n",
       "    </tr>\n",
       "    <tr>\n",
       "      <th>631767</th>\n",
       "      <td>a33b07430f</td>\n",
       "      <td>Grade 3</td>\n",
       "    </tr>\n",
       "    <tr>\n",
       "      <th>631768</th>\n",
       "      <td>a33c386cf3</td>\n",
       "      <td>Grade 5</td>\n",
       "    </tr>\n",
       "    <tr>\n",
       "      <th>631769</th>\n",
       "      <td>a33c386ee7</td>\n",
       "      <td>Grade 3</td>\n",
       "    </tr>\n",
       "    <tr>\n",
       "      <th>631770</th>\n",
       "      <td>a33c38700f</td>\n",
       "      <td>Grade 4</td>\n",
       "    </tr>\n",
       "    <tr>\n",
       "      <th>631771</th>\n",
       "      <td>a33c387079</td>\n",
       "      <td>Grade 3</td>\n",
       "    </tr>\n",
       "    <tr>\n",
       "      <th>631772</th>\n",
       "      <td>6627e911d56</td>\n",
       "      <td>Grade 2</td>\n",
       "    </tr>\n",
       "    <tr>\n",
       "      <th>631773</th>\n",
       "      <td>a3730e8420</td>\n",
       "      <td>Grade 4</td>\n",
       "    </tr>\n",
       "    <tr>\n",
       "      <th>631774</th>\n",
       "      <td>a373a71a3d</td>\n",
       "      <td>Grade 3</td>\n",
       "    </tr>\n",
       "    <tr>\n",
       "      <th>631775</th>\n",
       "      <td>a3743fb055</td>\n",
       "      <td>Grade 2</td>\n",
       "    </tr>\n",
       "    <tr>\n",
       "      <th>631776</th>\n",
       "      <td>a3743fb121</td>\n",
       "      <td>Grade 2</td>\n",
       "    </tr>\n",
       "    <tr>\n",
       "      <th>631777</th>\n",
       "      <td>a374d84676</td>\n",
       "      <td>Grade 3</td>\n",
       "    </tr>\n",
       "    <tr>\n",
       "      <th>631778</th>\n",
       "      <td>a374d848cb</td>\n",
       "      <td>Grade 2</td>\n",
       "    </tr>\n",
       "    <tr>\n",
       "      <th>631779</th>\n",
       "      <td>a374d8492a</td>\n",
       "      <td>Grade 2</td>\n",
       "    </tr>\n",
       "    <tr>\n",
       "      <th>631780</th>\n",
       "      <td>a37570ddbe</td>\n",
       "      <td>Grade 3</td>\n",
       "    </tr>\n",
       "    <tr>\n",
       "      <th>631781</th>\n",
       "      <td>a376097504</td>\n",
       "      <td>Grade 3</td>\n",
       "    </tr>\n",
       "    <tr>\n",
       "      <th>631782</th>\n",
       "      <td>a3760975cd</td>\n",
       "      <td>Grade 3</td>\n",
       "    </tr>\n",
       "    <tr>\n",
       "      <th>631783</th>\n",
       "      <td>a3aea94dbf</td>\n",
       "      <td>Grade 3</td>\n",
       "    </tr>\n",
       "    <tr>\n",
       "      <th>631784</th>\n",
       "      <td>a376a209ee</td>\n",
       "      <td>Grade 3</td>\n",
       "    </tr>\n",
       "    <tr>\n",
       "      <th>631785</th>\n",
       "      <td>a376a20b1e</td>\n",
       "      <td>Grade 5</td>\n",
       "    </tr>\n",
       "    <tr>\n",
       "      <th>631786</th>\n",
       "      <td>a376a20b83</td>\n",
       "      <td>Grade 3</td>\n",
       "    </tr>\n",
       "    <tr>\n",
       "      <th>631787</th>\n",
       "      <td>a3773aa0da</td>\n",
       "      <td>Grade 2</td>\n",
       "    </tr>\n",
       "    <tr>\n",
       "      <th>631788</th>\n",
       "      <td>a3b1a441bd</td>\n",
       "      <td>Grade 5</td>\n",
       "    </tr>\n",
       "    <tr>\n",
       "      <th>631789</th>\n",
       "      <td>a3773aa19c</td>\n",
       "      <td>Grade 3</td>\n",
       "    </tr>\n",
       "    <tr>\n",
       "      <th>631790</th>\n",
       "      <td>a3773aa2ca</td>\n",
       "      <td>Grade 3</td>\n",
       "    </tr>\n",
       "    <tr>\n",
       "      <th>...</th>\n",
       "      <td>...</td>\n",
       "      <td>...</td>\n",
       "    </tr>\n",
       "    <tr>\n",
       "      <th>1052906</th>\n",
       "      <td>355cf98de6a</td>\n",
       "      <td>Grade 5</td>\n",
       "    </tr>\n",
       "    <tr>\n",
       "      <th>1052907</th>\n",
       "      <td>355cf98df96</td>\n",
       "      <td>Grade 5</td>\n",
       "    </tr>\n",
       "    <tr>\n",
       "      <th>1052908</th>\n",
       "      <td>355cf98e1ef</td>\n",
       "      <td>Grade 5</td>\n",
       "    </tr>\n",
       "    <tr>\n",
       "      <th>1052909</th>\n",
       "      <td>355cf98e2ba</td>\n",
       "      <td>Grade 5</td>\n",
       "    </tr>\n",
       "    <tr>\n",
       "      <th>1052910</th>\n",
       "      <td>355cf98e321</td>\n",
       "      <td>Grade 5</td>\n",
       "    </tr>\n",
       "    <tr>\n",
       "      <th>1052911</th>\n",
       "      <td>215a1bf8eac6</td>\n",
       "      <td>Grade 5</td>\n",
       "    </tr>\n",
       "    <tr>\n",
       "      <th>1052912</th>\n",
       "      <td>355cf98e4af</td>\n",
       "      <td>Grade 5</td>\n",
       "    </tr>\n",
       "    <tr>\n",
       "      <th>1052913</th>\n",
       "      <td>215a1bf8f67f</td>\n",
       "      <td>Grade 5</td>\n",
       "    </tr>\n",
       "    <tr>\n",
       "      <th>1052914</th>\n",
       "      <td>355cf98e63d</td>\n",
       "      <td>Grade 5</td>\n",
       "    </tr>\n",
       "    <tr>\n",
       "      <th>1052915</th>\n",
       "      <td>355cf98e6a3</td>\n",
       "      <td>Grade 5</td>\n",
       "    </tr>\n",
       "    <tr>\n",
       "      <th>1052916</th>\n",
       "      <td>355cf98e705</td>\n",
       "      <td>Grade 5</td>\n",
       "    </tr>\n",
       "    <tr>\n",
       "      <th>1052917</th>\n",
       "      <td>355cf98e76d</td>\n",
       "      <td>Grade 5</td>\n",
       "    </tr>\n",
       "    <tr>\n",
       "      <th>1052918</th>\n",
       "      <td>355cf98e960</td>\n",
       "      <td>Grade 5</td>\n",
       "    </tr>\n",
       "    <tr>\n",
       "      <th>1052919</th>\n",
       "      <td>355cf98e9c3</td>\n",
       "      <td>Grade 1</td>\n",
       "    </tr>\n",
       "    <tr>\n",
       "      <th>1052920</th>\n",
       "      <td>355cf98eb51</td>\n",
       "      <td>Grade 5</td>\n",
       "    </tr>\n",
       "    <tr>\n",
       "      <th>1052921</th>\n",
       "      <td>355cf98ec1c</td>\n",
       "      <td>Grade 5</td>\n",
       "    </tr>\n",
       "    <tr>\n",
       "      <th>1052922</th>\n",
       "      <td>355cf98ed43</td>\n",
       "      <td>Grade 5</td>\n",
       "    </tr>\n",
       "    <tr>\n",
       "      <th>1052923</th>\n",
       "      <td>355cf98eda8</td>\n",
       "      <td>Grade 5</td>\n",
       "    </tr>\n",
       "    <tr>\n",
       "      <th>1052924</th>\n",
       "      <td>355cf98ee0a</td>\n",
       "      <td>Grade 5</td>\n",
       "    </tr>\n",
       "    <tr>\n",
       "      <th>1052925</th>\n",
       "      <td>355cf98ef37</td>\n",
       "      <td>Grade 5</td>\n",
       "    </tr>\n",
       "    <tr>\n",
       "      <th>1052926</th>\n",
       "      <td>215a1bf95c0f</td>\n",
       "      <td>Grade 1</td>\n",
       "    </tr>\n",
       "    <tr>\n",
       "      <th>1052927</th>\n",
       "      <td>355cf98f0cc</td>\n",
       "      <td>Grade 5</td>\n",
       "    </tr>\n",
       "    <tr>\n",
       "      <th>1052928</th>\n",
       "      <td>355cf98f257</td>\n",
       "      <td>Grade 5</td>\n",
       "    </tr>\n",
       "    <tr>\n",
       "      <th>1052929</th>\n",
       "      <td>355cf98f2c2</td>\n",
       "      <td>Grade 5</td>\n",
       "    </tr>\n",
       "    <tr>\n",
       "      <th>1052930</th>\n",
       "      <td>215a1bf97f36</td>\n",
       "      <td>Grade 5</td>\n",
       "    </tr>\n",
       "    <tr>\n",
       "      <th>1052931</th>\n",
       "      <td>355cf98f382</td>\n",
       "      <td>Grade 5</td>\n",
       "    </tr>\n",
       "    <tr>\n",
       "      <th>1052932</th>\n",
       "      <td>355cf98f44b</td>\n",
       "      <td>Grade 5</td>\n",
       "    </tr>\n",
       "    <tr>\n",
       "      <th>1052933</th>\n",
       "      <td>355cf98f577</td>\n",
       "      <td>Grade 1</td>\n",
       "    </tr>\n",
       "    <tr>\n",
       "      <th>1052934</th>\n",
       "      <td>215a1bf9ae16</td>\n",
       "      <td>Grade 5</td>\n",
       "    </tr>\n",
       "    <tr>\n",
       "      <th>1052935</th>\n",
       "      <td>215a1bf9b9ce</td>\n",
       "      <td>Grade 5</td>\n",
       "    </tr>\n",
       "  </tbody>\n",
       "</table>\n",
       "<p>421175 rows × 2 columns</p>\n",
       "</div>"
      ],
      "text/plain": [
       "          building_id damage_grade\n",
       "631761     a3380c4f75      Grade 2\n",
       "631762     a338a4e653      Grade 5\n",
       "631763     a338a4e6b7      Grade 5\n",
       "631764     a33a6eaa3a      Grade 3\n",
       "631765     a33b073ff6      Grade 5\n",
       "631766    6604e4896c6      Grade 3\n",
       "631767     a33b07430f      Grade 3\n",
       "631768     a33c386cf3      Grade 5\n",
       "631769     a33c386ee7      Grade 3\n",
       "631770     a33c38700f      Grade 4\n",
       "631771     a33c387079      Grade 3\n",
       "631772    6627e911d56      Grade 2\n",
       "631773     a3730e8420      Grade 4\n",
       "631774     a373a71a3d      Grade 3\n",
       "631775     a3743fb055      Grade 2\n",
       "631776     a3743fb121      Grade 2\n",
       "631777     a374d84676      Grade 3\n",
       "631778     a374d848cb      Grade 2\n",
       "631779     a374d8492a      Grade 2\n",
       "631780     a37570ddbe      Grade 3\n",
       "631781     a376097504      Grade 3\n",
       "631782     a3760975cd      Grade 3\n",
       "631783     a3aea94dbf      Grade 3\n",
       "631784     a376a209ee      Grade 3\n",
       "631785     a376a20b1e      Grade 5\n",
       "631786     a376a20b83      Grade 3\n",
       "631787     a3773aa0da      Grade 2\n",
       "631788     a3b1a441bd      Grade 5\n",
       "631789     a3773aa19c      Grade 3\n",
       "631790     a3773aa2ca      Grade 3\n",
       "...               ...          ...\n",
       "1052906   355cf98de6a      Grade 5\n",
       "1052907   355cf98df96      Grade 5\n",
       "1052908   355cf98e1ef      Grade 5\n",
       "1052909   355cf98e2ba      Grade 5\n",
       "1052910   355cf98e321      Grade 5\n",
       "1052911  215a1bf8eac6      Grade 5\n",
       "1052912   355cf98e4af      Grade 5\n",
       "1052913  215a1bf8f67f      Grade 5\n",
       "1052914   355cf98e63d      Grade 5\n",
       "1052915   355cf98e6a3      Grade 5\n",
       "1052916   355cf98e705      Grade 5\n",
       "1052917   355cf98e76d      Grade 5\n",
       "1052918   355cf98e960      Grade 5\n",
       "1052919   355cf98e9c3      Grade 1\n",
       "1052920   355cf98eb51      Grade 5\n",
       "1052921   355cf98ec1c      Grade 5\n",
       "1052922   355cf98ed43      Grade 5\n",
       "1052923   355cf98eda8      Grade 5\n",
       "1052924   355cf98ee0a      Grade 5\n",
       "1052925   355cf98ef37      Grade 5\n",
       "1052926  215a1bf95c0f      Grade 1\n",
       "1052927   355cf98f0cc      Grade 5\n",
       "1052928   355cf98f257      Grade 5\n",
       "1052929   355cf98f2c2      Grade 5\n",
       "1052930  215a1bf97f36      Grade 5\n",
       "1052931   355cf98f382      Grade 5\n",
       "1052932   355cf98f44b      Grade 5\n",
       "1052933   355cf98f577      Grade 1\n",
       "1052934  215a1bf9ae16      Grade 5\n",
       "1052935  215a1bf9b9ce      Grade 5\n",
       "\n",
       "[421175 rows x 2 columns]"
      ]
     },
     "execution_count": 101,
     "metadata": {},
     "output_type": "execute_result"
    }
   ],
   "source": [
    "submission = pd.DataFrame(ftest.building_id)\n",
    "submission['damage_grade'] = predictions\n",
    "submission"
   ]
  },
  {
   "cell_type": "code",
   "execution_count": 102,
   "metadata": {},
   "outputs": [],
   "source": [
    "submission.to_csv('hE_Ml6_sub03.csv', index = False)"
   ]
  }
 ],
 "metadata": {
  "kernelspec": {
   "display_name": "Python 3",
   "language": "python",
   "name": "python3"
  },
  "language_info": {
   "codemirror_mode": {
    "name": "ipython",
    "version": 3
   },
   "file_extension": ".py",
   "mimetype": "text/x-python",
   "name": "python",
   "nbconvert_exporter": "python",
   "pygments_lexer": "ipython3",
   "version": "3.6.5"
  }
 },
 "nbformat": 4,
 "nbformat_minor": 2
}
