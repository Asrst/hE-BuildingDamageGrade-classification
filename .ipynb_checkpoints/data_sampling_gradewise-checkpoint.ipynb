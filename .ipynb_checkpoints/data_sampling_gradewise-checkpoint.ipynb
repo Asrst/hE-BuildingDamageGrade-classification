{
 "cells": [
  {
   "cell_type": "code",
   "execution_count": 1,
   "metadata": {},
   "outputs": [],
   "source": [
    "#import libraries\n",
    "import os\n",
    "import pandas as pd\n",
    "import numpy as np\n",
    "import scipy as sp\n",
    "import seaborn as sns\n",
    "import math as m\n",
    "import xlrd\n",
    "from scipy import stats\n",
    "from sklearn import datasets\n",
    "import matplotlib.pyplot as plt"
   ]
  },
  {
   "cell_type": "code",
   "execution_count": 2,
   "metadata": {},
   "outputs": [],
   "source": [
    "#read data\n",
    "itrain = pd.read_csv('/home/sa05975666/Asr/train_set.csv')\n",
    "itest = pd.read_csv('/home/sa05975666/Asr/test_set.csv')\n",
    "isub = pd.read_csv('/home/sa05975666/Asr/hE_Ml6_sub02.csv')"
   ]
  },
  {
   "cell_type": "code",
   "execution_count": 4,
   "metadata": {},
   "outputs": [],
   "source": [
    "# itrain['delta_countFloors'] = itrain['count_floors_pre_eq'] - itrain['count_floors_post_eq']\n",
    "# itrain['delta_Height'] = itrain['height_ft_pre_eq'] - itrain['height_ft_post_eq']"
   ]
  },
  {
   "cell_type": "code",
   "execution_count": 5,
   "metadata": {},
   "outputs": [],
   "source": [
    "# itest['delta_countFloors'] = itest['count_floors_pre_eq'] - itest['count_floors_post_eq']\n",
    "# itest['delta_Height'] = itest['height_ft_pre_eq'] - itest['height_ft_post_eq']"
   ]
  },
  {
   "cell_type": "code",
   "execution_count": 6,
   "metadata": {},
   "outputs": [],
   "source": [
    "new_test = pd.merge(itest, isub, on = 'building_id', how = 'left')"
   ]
  },
  {
   "cell_type": "code",
   "execution_count": 7,
   "metadata": {},
   "outputs": [],
   "source": [
    "### Grade 5 test submission\n",
    "Grade_5 = new_test[new_test.damage_grade == 'Grade 5']\n",
    "subGrade_5 = Grade_5[['building_id', 'damage_grade']]\n",
    "subGrade_5.to_csv('sub_Grade_5.csv', index = False)"
   ]
  },
  {
   "cell_type": "code",
   "execution_count": 8,
   "metadata": {},
   "outputs": [],
   "source": [
    "new_test = new_test.drop(new_test[new_test.damage_grade == 'Grade 5'].index)\n",
    "no_grade5 = new_test.drop('damage_grade', axis = 1)"
   ]
  },
  {
   "cell_type": "code",
   "execution_count": 4,
   "metadata": {},
   "outputs": [],
   "source": [
    "new_train = itrain.drop(itrain[itrain.damage_grade == 'Grade 5'].index)\n",
    "no_Grade15 = new_train.drop(new_train[new_train.damage_grade == 'Grade 1'].index)"
   ]
  },
  {
   "cell_type": "code",
   "execution_count": 7,
   "metadata": {},
   "outputs": [],
   "source": [
    "no_Grade15.to_csv('noGrade_15.csv', index = False)"
   ]
  },
  {
   "cell_type": "code",
   "execution_count": 10,
   "metadata": {},
   "outputs": [],
   "source": [
    "dump_col = ['plan_configuration_H-shape', 'has_secondary_use_gov_office', 'has_secondary_use_use_police', \n",
    "            'has_secondary_use_health_post', 'plan_configuration_E-shape', 'plan_configuration_Building with Central Courtyard', \n",
    "            'has_secondary_use_school','plan_configuration_U-shape', 'has_secondary_use_institution', \n",
    "            'condition_post_eq_Covered by landslide', 'has_secondary_use_industry', 'plan_configuration_T-shape', \n",
    "            'plan_configuration_Others', 'plan_configuration_Multi-projected', \n",
    "            'has_geotechnical_risk_other','ground_floor_type_Other', 'has_geotechnical_risk_liquefaction',\n",
    "            'area_assesed_Interior', 'position_Attached-3 side', 'condition_post_eq_Damaged-Rubble Clear-New building built', \n",
    "            'legal_ownership_status_Other', 'has_secondary_use_rental', 'plan_configuration_L-shape', \n",
    "            'legal_ownership_status_Institutional', 'building_id']"
   ]
  },
  {
   "cell_type": "code",
   "execution_count": 11,
   "metadata": {},
   "outputs": [],
   "source": [
    "predictors = new_train.drop(dump_col, axis = 1)\n",
    "predictors = predictors.drop('damage_grade', axis = 1)\n",
    "target = new_train['damage_grade']\n",
    "#target = target.replace({'Grade 1': 1, 'Grade 2': 2,  'Grade 3': 3,'Grade 4': 4,'Grade 5': 5})"
   ]
  },
  {
   "cell_type": "code",
   "execution_count": 12,
   "metadata": {},
   "outputs": [],
   "source": [
    "test_set = no_grade5.drop(dump_col, axis = 1)"
   ]
  },
  {
   "cell_type": "code",
   "execution_count": 13,
   "metadata": {},
   "outputs": [
    {
     "name": "stdout",
     "output_type": "stream",
     "text": [
      "(420936, 70)\n",
      "(286531, 70)\n"
     ]
    }
   ],
   "source": [
    "print(predictors.shape)\n",
    "print(test_set.shape)"
   ]
  },
  {
   "cell_type": "code",
   "execution_count": 14,
   "metadata": {},
   "outputs": [
    {
     "data": {
      "text/plain": [
       "array(['Grade 4', 'Grade 2', 'Grade 1', 'Grade 3'], dtype=object)"
      ]
     },
     "execution_count": 14,
     "metadata": {},
     "output_type": "execute_result"
    }
   ],
   "source": [
    "target.unique()"
   ]
  },
  {
   "cell_type": "code",
   "execution_count": 15,
   "metadata": {},
   "outputs": [
    {
     "data": {
      "text/plain": [
       "array(['Grade 4', 'Grade 1', 'Grade 3', ..., 'Grade 3', 'Grade 4',\n",
       "       'Grade 3'], dtype=object)"
      ]
     },
     "metadata": {},
     "output_type": "display_data"
    },
    {
     "name": "stdout",
     "output_type": "stream",
     "text": [
      "             precision    recall  f1-score   support\n",
      "\n",
      "    Grade 1       0.98      0.84      0.90     18491\n",
      "    Grade 2       0.61      0.47      0.53     25412\n",
      "    Grade 3       0.51      0.67      0.58     36857\n",
      "    Grade 4       0.77      0.73      0.75     45521\n",
      "\n",
      "avg / total       0.69      0.67      0.68    126281\n",
      "\n"
     ]
    },
    {
     "data": {
      "text/html": [
       "<div>\n",
       "<style scoped>\n",
       "    .dataframe tbody tr th:only-of-type {\n",
       "        vertical-align: middle;\n",
       "    }\n",
       "\n",
       "    .dataframe tbody tr th {\n",
       "        vertical-align: top;\n",
       "    }\n",
       "\n",
       "    .dataframe thead th {\n",
       "        text-align: right;\n",
       "    }\n",
       "</style>\n",
       "<table border=\"1\" class=\"dataframe\">\n",
       "  <thead>\n",
       "    <tr style=\"text-align: right;\">\n",
       "      <th>col_0</th>\n",
       "      <th>Grade 1</th>\n",
       "      <th>Grade 2</th>\n",
       "      <th>Grade 3</th>\n",
       "      <th>Grade 4</th>\n",
       "    </tr>\n",
       "    <tr>\n",
       "      <th>damage_grade</th>\n",
       "      <th></th>\n",
       "      <th></th>\n",
       "      <th></th>\n",
       "      <th></th>\n",
       "    </tr>\n",
       "  </thead>\n",
       "  <tbody>\n",
       "    <tr>\n",
       "      <th>Grade 1</th>\n",
       "      <td>15522</td>\n",
       "      <td>2063</td>\n",
       "      <td>845</td>\n",
       "      <td>61</td>\n",
       "    </tr>\n",
       "    <tr>\n",
       "      <th>Grade 2</th>\n",
       "      <td>315</td>\n",
       "      <td>11913</td>\n",
       "      <td>11326</td>\n",
       "      <td>1858</td>\n",
       "    </tr>\n",
       "    <tr>\n",
       "      <th>Grade 3</th>\n",
       "      <td>58</td>\n",
       "      <td>4496</td>\n",
       "      <td>24531</td>\n",
       "      <td>7772</td>\n",
       "    </tr>\n",
       "    <tr>\n",
       "      <th>Grade 4</th>\n",
       "      <td>7</td>\n",
       "      <td>911</td>\n",
       "      <td>11418</td>\n",
       "      <td>33185</td>\n",
       "    </tr>\n",
       "  </tbody>\n",
       "</table>\n",
       "</div>"
      ],
      "text/plain": [
       "col_0         Grade 1  Grade 2  Grade 3  Grade 4\n",
       "damage_grade                                    \n",
       "Grade 1         15522     2063      845       61\n",
       "Grade 2           315    11913    11326     1858\n",
       "Grade 3            58     4496    24531     7772\n",
       "Grade 4             7      911    11418    33185"
      ]
     },
     "execution_count": 15,
     "metadata": {},
     "output_type": "execute_result"
    }
   ],
   "source": [
    "#importing packages from sk learn\n",
    "from sklearn.ensemble import RandomForestClassifier\n",
    "from sklearn.datasets import make_classification\n",
    "from sklearn.model_selection import train_test_split\n",
    "from sklearn.metrics import roc_auc_score\n",
    "\n",
    "#FUNCTION for Train & Validation set\n",
    "X_train, X_test, y_train, y_test = train_test_split(predictors, target, train_size=0.7, test_size=0.3, \n",
    "                                                    random_state = 7)\n",
    "\n",
    "model = RandomForestClassifier(n_estimators = 549, max_features = 25 , min_samples_leaf = 3, min_samples_split = 11,\n",
    "                              n_jobs = -1, class_weight = {'Grade 1': 3.4381115459882583, 'Grade 2': 5.47784542334634, \n",
    "        'Grade 3': 9.7240039905796154,'Grade 4': 5.347836367935682}, random_state = 7)\n",
    "model.fit(X_train, y_train)\n",
    "predicted_val = model.predict(X_test)\n",
    "display(predicted_val)\n",
    "\n",
    "from sklearn.metrics import f1_score\n",
    "f1_score(y_test, predicted_val, average='weighted')\n",
    "\n",
    "from sklearn.metrics import classification_report\n",
    "print(classification_report(y_test, predicted_val))\n",
    "\n",
    "RfCM = pd.crosstab(y_test, predicted_val)\n",
    "RfCM"
   ]
  },
  {
   "cell_type": "markdown",
   "metadata": {},
   "source": [
    "### Final predictions"
   ]
  },
  {
   "cell_type": "code",
   "execution_count": 48,
   "metadata": {},
   "outputs": [
    {
     "data": {
      "text/html": [
       "<div>\n",
       "<style scoped>\n",
       "    .dataframe tbody tr th:only-of-type {\n",
       "        vertical-align: middle;\n",
       "    }\n",
       "\n",
       "    .dataframe tbody tr th {\n",
       "        vertical-align: top;\n",
       "    }\n",
       "\n",
       "    .dataframe thead th {\n",
       "        text-align: right;\n",
       "    }\n",
       "</style>\n",
       "<table border=\"1\" class=\"dataframe\">\n",
       "  <thead>\n",
       "    <tr style=\"text-align: right;\">\n",
       "      <th>col_0</th>\n",
       "      <th>Grade 1</th>\n",
       "      <th>Grade 2</th>\n",
       "      <th>Grade 3</th>\n",
       "      <th>Grade 4</th>\n",
       "    </tr>\n",
       "    <tr>\n",
       "      <th>damage_grade</th>\n",
       "      <th></th>\n",
       "      <th></th>\n",
       "      <th></th>\n",
       "      <th></th>\n",
       "    </tr>\n",
       "  </thead>\n",
       "  <tbody>\n",
       "    <tr>\n",
       "      <th>Grade 1</th>\n",
       "      <td>58844</td>\n",
       "      <td>2035</td>\n",
       "      <td>335</td>\n",
       "      <td>106</td>\n",
       "    </tr>\n",
       "    <tr>\n",
       "      <th>Grade 2</th>\n",
       "      <td>1365</td>\n",
       "      <td>75299</td>\n",
       "      <td>5226</td>\n",
       "      <td>3194</td>\n",
       "    </tr>\n",
       "    <tr>\n",
       "      <th>Grade 3</th>\n",
       "      <td>824</td>\n",
       "      <td>12723</td>\n",
       "      <td>97722</td>\n",
       "      <td>11019</td>\n",
       "    </tr>\n",
       "    <tr>\n",
       "      <th>Grade 4</th>\n",
       "      <td>139</td>\n",
       "      <td>5471</td>\n",
       "      <td>12504</td>\n",
       "      <td>134130</td>\n",
       "    </tr>\n",
       "  </tbody>\n",
       "</table>\n",
       "</div>"
      ],
      "text/plain": [
       "col_0         Grade 1  Grade 2  Grade 3  Grade 4\n",
       "damage_grade                                    \n",
       "Grade 1         58844     2035      335      106\n",
       "Grade 2          1365    75299     5226     3194\n",
       "Grade 3           824    12723    97722    11019\n",
       "Grade 4           139     5471    12504   134130"
      ]
     },
     "execution_count": 48,
     "metadata": {},
     "output_type": "execute_result"
    }
   ],
   "source": [
    "trainModel = RandomForestClassifier(n_estimators = 599, max_features = 26, min_samples_leaf = 3, min_samples_split = 11, \n",
    "                                    n_jobs = -1, class_weight = {'Grade 1': 3.4381115459882583, 'Grade 2': 5.47784542334634, \n",
    "        'Grade 3': 9.7240039905796154,'Grade 4': 5.3847836367935682})\n",
    "trainModel.fit(predictors, target)\n",
    "predictions = trainModel.predict(test_set)\n",
    "\n",
    "\n",
    "predicted_val = trainModel.predict(predictors)\n",
    "SeeCM = pd.crosstab(target, predicted_val)\n",
    "SeeCM"
   ]
  },
  {
   "cell_type": "code",
   "execution_count": null,
   "metadata": {},
   "outputs": [],
   "source": []
  }
 ],
 "metadata": {
  "kernelspec": {
   "display_name": "Python 3",
   "language": "python",
   "name": "python3"
  },
  "language_info": {
   "codemirror_mode": {
    "name": "ipython",
    "version": 3
   },
   "file_extension": ".py",
   "mimetype": "text/x-python",
   "name": "python",
   "nbconvert_exporter": "python",
   "pygments_lexer": "ipython3",
   "version": "3.6.4"
  }
 },
 "nbformat": 4,
 "nbformat_minor": 2
}
