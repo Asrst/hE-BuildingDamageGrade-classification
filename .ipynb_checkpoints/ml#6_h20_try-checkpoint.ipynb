{
 "cells": [
  {
   "cell_type": "code",
   "execution_count": 1,
   "metadata": {},
   "outputs": [],
   "source": [
    "import os\n",
    "import pandas as pd\n",
    "import matplotlib as mlt\n",
    "import numpy as np\n",
    "from scipy.stats import chi2_contingency\n",
    "import lightgbm as lgb\n",
    "from sklearn.model_selection import KFold\n",
    "import matplotlib.pyplot as plt"
   ]
  },
  {
   "cell_type": "code",
   "execution_count": 2,
   "metadata": {},
   "outputs": [],
   "source": [
    "os.chdir('C:\\\\Users\\\\hp\\\\Desktop\\\\ml6#House_grade\\\\Dataset')"
   ]
  },
  {
   "cell_type": "code",
   "execution_count": 3,
   "metadata": {},
   "outputs": [],
   "source": [
    "import h2o"
   ]
  },
  {
   "cell_type": "code",
   "execution_count": 4,
   "metadata": {},
   "outputs": [
    {
     "name": "stdout",
     "output_type": "stream",
     "text": [
      "Checking whether there is an H2O instance running at http://localhost:54321..... not found.\n",
      "Attempting to start a local H2O server...\n",
      "; Java HotSpot(TM) 64-Bit Server VM (build 25.131-b11, mixed mode)\n",
      "  Starting server from C:\\Users\\hp\\anaconda3\\lib\\site-packages\\h2o\\backend\\bin\\h2o.jar\n",
      "  Ice root: C:\\Users\\hp\\AppData\\Local\\Temp\\tmpp309fxj7\n",
      "  JVM stdout: C:\\Users\\hp\\AppData\\Local\\Temp\\tmpp309fxj7\\h2o_hp_started_from_python.out\n",
      "  JVM stderr: C:\\Users\\hp\\AppData\\Local\\Temp\\tmpp309fxj7\\h2o_hp_started_from_python.err\n",
      "  Server is running at http://127.0.0.1:54321\n",
      "Connecting to H2O server at http://127.0.0.1:54321... successful.\n"
     ]
    },
    {
     "data": {
      "text/html": [
       "<div style=\"overflow:auto\"><table style=\"width:50%\"><tr><td>H2O cluster uptime:</td>\n",
       "<td>02 secs</td></tr>\n",
       "<tr><td>H2O cluster timezone:</td>\n",
       "<td>Asia/Kolkata</td></tr>\n",
       "<tr><td>H2O data parsing timezone:</td>\n",
       "<td>UTC</td></tr>\n",
       "<tr><td>H2O cluster version:</td>\n",
       "<td>3.20.0.3</td></tr>\n",
       "<tr><td>H2O cluster version age:</td>\n",
       "<td>18 days </td></tr>\n",
       "<tr><td>H2O cluster name:</td>\n",
       "<td>H2O_from_python_hp_rkde1q</td></tr>\n",
       "<tr><td>H2O cluster total nodes:</td>\n",
       "<td>1</td></tr>\n",
       "<tr><td>H2O cluster free memory:</td>\n",
       "<td>1.299 Gb</td></tr>\n",
       "<tr><td>H2O cluster total cores:</td>\n",
       "<td>4</td></tr>\n",
       "<tr><td>H2O cluster allowed cores:</td>\n",
       "<td>4</td></tr>\n",
       "<tr><td>H2O cluster status:</td>\n",
       "<td>accepting new members, healthy</td></tr>\n",
       "<tr><td>H2O connection url:</td>\n",
       "<td>http://127.0.0.1:54321</td></tr>\n",
       "<tr><td>H2O connection proxy:</td>\n",
       "<td>None</td></tr>\n",
       "<tr><td>H2O internal security:</td>\n",
       "<td>False</td></tr>\n",
       "<tr><td>H2O API Extensions:</td>\n",
       "<td>Algos, AutoML, Core V3, Core V4</td></tr>\n",
       "<tr><td>Python version:</td>\n",
       "<td>3.6.3 final</td></tr></table></div>"
      ],
      "text/plain": [
       "--------------------------  -------------------------------\n",
       "H2O cluster uptime:         02 secs\n",
       "H2O cluster timezone:       Asia/Kolkata\n",
       "H2O data parsing timezone:  UTC\n",
       "H2O cluster version:        3.20.0.3\n",
       "H2O cluster version age:    18 days\n",
       "H2O cluster name:           H2O_from_python_hp_rkde1q\n",
       "H2O cluster total nodes:    1\n",
       "H2O cluster free memory:    1.299 Gb\n",
       "H2O cluster total cores:    4\n",
       "H2O cluster allowed cores:  4\n",
       "H2O cluster status:         accepting new members, healthy\n",
       "H2O connection url:         http://127.0.0.1:54321\n",
       "H2O connection proxy:\n",
       "H2O internal security:      False\n",
       "H2O API Extensions:         Algos, AutoML, Core V3, Core V4\n",
       "Python version:             3.6.3 final\n",
       "--------------------------  -------------------------------"
      ]
     },
     "metadata": {},
     "output_type": "display_data"
    }
   ],
   "source": [
    "h2o.init()"
   ]
  },
  {
   "cell_type": "code",
   "execution_count": 5,
   "metadata": {},
   "outputs": [
    {
     "name": "stdout",
     "output_type": "stream",
     "text": [
      "Parse progress: |█████████████████████████████████████████████████████████| 100%\n"
     ]
    }
   ],
   "source": [
    "df = h2o.import_file(path=\"C:\\\\Users\\\\hp\\\\Desktop\\\\ml6#House_grade\\\\Dataset\\\\train_set.csv\")"
   ]
  },
  {
   "cell_type": "code",
   "execution_count": 6,
   "metadata": {},
   "outputs": [
    {
     "name": "stdout",
     "output_type": "stream",
     "text": [
      "Parse progress: |█████████████████████████████████████████████████████████| 100%\n"
     ]
    }
   ],
   "source": [
    "test_set = h2o.import_file(path=\"C:\\\\Users\\\\hp\\\\Desktop\\\\ml6#House_grade\\\\Dataset\\\\test_set.csv\")"
   ]
  },
  {
   "cell_type": "code",
   "execution_count": 7,
   "metadata": {},
   "outputs": [],
   "source": [
    "itrain = df.drop(['building_id'], axis=1)"
   ]
  },
  {
   "cell_type": "code",
   "execution_count": 8,
   "metadata": {},
   "outputs": [],
   "source": [
    "itest = test_set.drop(['building_id'], axis=1)"
   ]
  },
  {
   "cell_type": "code",
   "execution_count": 9,
   "metadata": {},
   "outputs": [],
   "source": [
    "damage_predictors = itrain.columns\n",
    "damage_predictors.remove('damage_grade')"
   ]
  },
  {
   "cell_type": "code",
   "execution_count": 10,
   "metadata": {},
   "outputs": [],
   "source": [
    "var_target ='damage_grade'"
   ]
  },
  {
   "cell_type": "code",
   "execution_count": 21,
   "metadata": {},
   "outputs": [],
   "source": [
    "train, valid, test = df.split_frame(ratios=[0.5,0.3], seed = 123 )\n"
   ]
  },
  {
   "cell_type": "code",
   "execution_count": 43,
   "metadata": {},
   "outputs": [],
   "source": [
    "from h2o.estimators.random_forest import H2ORandomForestEstimator\n",
    "\n",
    "rf_1 = H2ORandomForestEstimator( model_id=\"rf_v1\", ntrees = 699, stopping_rounds =2, score_each_iteration=True, mtries = 34,\n",
    "                                balance_classes = True, seed=100, nbins = 25)"
   ]
  },
  {
   "cell_type": "code",
   "execution_count": 44,
   "metadata": {},
   "outputs": [
    {
     "name": "stdout",
     "output_type": "stream",
     "text": [
      "drf Model Build progress: |███████████████████████████████████████████████| 100%\n"
     ]
    }
   ],
   "source": [
    "rf_1.train(damage_predictors, var_target, training_frame=train, validation_frame=valid)"
   ]
  },
  {
   "cell_type": "code",
   "execution_count": 45,
   "metadata": {},
   "outputs": [
    {
     "name": "stdout",
     "output_type": "stream",
     "text": [
      "Confusion Matrix: Row labels: Actual class; Column labels: Predicted class\n",
      "\n"
     ]
    },
    {
     "data": {
      "text/html": [
       "<div style=\"overflow:auto\"><table style=\"width:50%\"><tr><td><b>Grade 1</b></td>\n",
       "<td><b>Grade 2</b></td>\n",
       "<td><b>Grade 3</b></td>\n",
       "<td><b>Grade 4</b></td>\n",
       "<td><b>Grade 5</b></td>\n",
       "<td><b>Error</b></td>\n",
       "<td><b>Rate</b></td></tr>\n",
       "<tr><td>15631.0</td>\n",
       "<td>1989.0</td>\n",
       "<td>632.0</td>\n",
       "<td>98.0</td>\n",
       "<td>8.0</td>\n",
       "<td>0.1485456</td>\n",
       "<td>2,727 / 18,358</td></tr>\n",
       "<tr><td>471.0</td>\n",
       "<td>12746.0</td>\n",
       "<td>8441.0</td>\n",
       "<td>3943.0</td>\n",
       "<td>49.0</td>\n",
       "<td>0.5030799</td>\n",
       "<td>12,904 / 25,650</td></tr>\n",
       "<tr><td>119.0</td>\n",
       "<td>6280.0</td>\n",
       "<td>16896.0</td>\n",
       "<td>13307.0</td>\n",
       "<td>89.0</td>\n",
       "<td>0.5395056</td>\n",
       "<td>19,795 / 36,691</td></tr>\n",
       "<tr><td>12.0</td>\n",
       "<td>1407.0</td>\n",
       "<td>6867.0</td>\n",
       "<td>36995.0</td>\n",
       "<td>346.0</td>\n",
       "<td>0.1891862</td>\n",
       "<td>8,632 / 45,627</td></tr>\n",
       "<tr><td>2.0</td>\n",
       "<td>42.0</td>\n",
       "<td>189.0</td>\n",
       "<td>2445.0</td>\n",
       "<td>60461.0</td>\n",
       "<td>0.0424144</td>\n",
       "<td>2,678 / 63,139</td></tr>\n",
       "<tr><td>16235.0</td>\n",
       "<td>22464.0</td>\n",
       "<td>33025.0</td>\n",
       "<td>56788.0</td>\n",
       "<td>60953.0</td>\n",
       "<td>0.2466735</td>\n",
       "<td>46,736 / 189,465</td></tr></table></div>"
      ],
      "text/plain": [
       "Grade 1    Grade 2    Grade 3    Grade 4    Grade 5    Error      Rate\n",
       "---------  ---------  ---------  ---------  ---------  ---------  ----------------\n",
       "15631      1989       632        98         8          0.148546   2,727 / 18,358\n",
       "471        12746      8441       3943       49         0.50308    12,904 / 25,650\n",
       "119        6280       16896      13307      89         0.539506   19,795 / 36,691\n",
       "12         1407       6867       36995      346        0.189186   8,632 / 45,627\n",
       "2          42         189        2445       60461      0.0424144  2,678 / 63,139\n",
       "16235      22464      33025      56788      60953      0.246674   46,736 / 189,465"
      ]
     },
     "metadata": {},
     "output_type": "display_data"
    },
    {
     "data": {
      "text/plain": []
     },
     "execution_count": 45,
     "metadata": {},
     "output_type": "execute_result"
    }
   ],
   "source": [
    "rf_1.confusion_matrix(data=valid)"
   ]
  },
  {
   "cell_type": "code",
   "execution_count": 32,
   "metadata": {},
   "outputs": [
    {
     "name": "stdout",
     "output_type": "stream",
     "text": [
      "drf prediction progress: |████████████████████████████████████████████████| 100%\n"
     ]
    }
   ],
   "source": [
    "final_rf = rf_1.predict(test)"
   ]
  },
  {
   "cell_type": "code",
   "execution_count": 36,
   "metadata": {},
   "outputs": [
    {
     "data": {
      "text/html": [
       "<table>\n",
       "<thead>\n",
       "<tr><th>predict  </th><th style=\"text-align: right;\">  Grade 1</th><th style=\"text-align: right;\">    Grade 2</th><th style=\"text-align: right;\">  Grade 3</th><th style=\"text-align: right;\">  Grade 4</th><th style=\"text-align: right;\">   Grade 5</th></tr>\n",
       "</thead>\n",
       "<tbody>\n",
       "<tr><td>Grade 1  </td><td style=\"text-align: right;\"> 0.969979</td><td style=\"text-align: right;\">0.0300209  </td><td style=\"text-align: right;\"> 0       </td><td style=\"text-align: right;\">0        </td><td style=\"text-align: right;\">0         </td></tr>\n",
       "<tr><td>Grade 2  </td><td style=\"text-align: right;\"> 0.114252</td><td style=\"text-align: right;\">0.468766   </td><td style=\"text-align: right;\"> 0.365568</td><td style=\"text-align: right;\">0.0514143</td><td style=\"text-align: right;\">0         </td></tr>\n",
       "<tr><td>Grade 3  </td><td style=\"text-align: right;\"> 0.148253</td><td style=\"text-align: right;\">0.318242   </td><td style=\"text-align: right;\"> 0.391746</td><td style=\"text-align: right;\">0.140444 </td><td style=\"text-align: right;\">0.00131421</td></tr>\n",
       "<tr><td>Grade 5  </td><td style=\"text-align: right;\"> 0       </td><td style=\"text-align: right;\">6.40448e-07</td><td style=\"text-align: right;\"> 0       </td><td style=\"text-align: right;\">0        </td><td style=\"text-align: right;\">0.999999  </td></tr>\n",
       "<tr><td>Grade 2  </td><td style=\"text-align: right;\"> 0       </td><td style=\"text-align: right;\">0.86267    </td><td style=\"text-align: right;\"> 0.100292</td><td style=\"text-align: right;\">0.0359195</td><td style=\"text-align: right;\">0.00111874</td></tr>\n",
       "<tr><td>Grade 5  </td><td style=\"text-align: right;\"> 0       </td><td style=\"text-align: right;\">0          </td><td style=\"text-align: right;\"> 0       </td><td style=\"text-align: right;\">0        </td><td style=\"text-align: right;\">1         </td></tr>\n",
       "<tr><td>Grade 5  </td><td style=\"text-align: right;\"> 0       </td><td style=\"text-align: right;\">6.40448e-07</td><td style=\"text-align: right;\"> 0       </td><td style=\"text-align: right;\">0        </td><td style=\"text-align: right;\">0.999999  </td></tr>\n",
       "<tr><td>Grade 4  </td><td style=\"text-align: right;\"> 0       </td><td style=\"text-align: right;\">0.0814648  </td><td style=\"text-align: right;\"> 0.305433</td><td style=\"text-align: right;\">0.571044 </td><td style=\"text-align: right;\">0.0420576 </td></tr>\n",
       "<tr><td>Grade 4  </td><td style=\"text-align: right;\"> 0       </td><td style=\"text-align: right;\">0.0272295  </td><td style=\"text-align: right;\"> 0.119571</td><td style=\"text-align: right;\">0.84015  </td><td style=\"text-align: right;\">0.0130492 </td></tr>\n",
       "<tr><td>Grade 2  </td><td style=\"text-align: right;\"> 0       </td><td style=\"text-align: right;\">0.382422   </td><td style=\"text-align: right;\"> 0.362638</td><td style=\"text-align: right;\">0.241237 </td><td style=\"text-align: right;\">0.013703  </td></tr>\n",
       "</tbody>\n",
       "</table>"
      ]
     },
     "metadata": {},
     "output_type": "display_data"
    },
    {
     "data": {
      "text/plain": []
     },
     "execution_count": 36,
     "metadata": {},
     "output_type": "execute_result"
    }
   ],
   "source": [
    "final_rf"
   ]
  },
  {
   "cell_type": "code",
   "execution_count": null,
   "metadata": {},
   "outputs": [],
   "source": []
  },
  {
   "cell_type": "code",
   "execution_count": 29,
   "metadata": {},
   "outputs": [
    {
     "name": "stdout",
     "output_type": "stream",
     "text": [
      "Model Details\n",
      "=============\n",
      "H2ORandomForestEstimator :  Distributed Random Forest\n",
      "Model Key:  rf_v1\n",
      "\n",
      "\n",
      "ModelMetricsMultinomial: drf\n",
      "** Reported on train data. **\n",
      "\n",
      "MSE: 0.20890604702590687\n",
      "RMSE: 0.4570624104276208\n",
      "LogLoss: 0.5937972708334861\n",
      "Mean Per-Class Error: 0.24342518817565914\n",
      "Confusion Matrix: Row labels: Actual class; Column labels: Predicted class\n",
      "\n"
     ]
    },
    {
     "data": {
      "text/html": [
       "<div style=\"overflow:auto\"><table style=\"width:50%\"><tr><td><b>Grade 1</b></td>\n",
       "<td><b>Grade 2</b></td>\n",
       "<td><b>Grade 3</b></td>\n",
       "<td><b>Grade 4</b></td>\n",
       "<td><b>Grade 5</b></td>\n",
       "<td><b>Error</b></td>\n",
       "<td><b>Rate</b></td></tr>\n",
       "<tr><td>92087.0</td>\n",
       "<td>8540.0</td>\n",
       "<td>4295.0</td>\n",
       "<td>396.0</td>\n",
       "<td>6.0</td>\n",
       "<td>0.1256789</td>\n",
       "<td>13,237 / 105,324</td></tr>\n",
       "<tr><td>512.0</td>\n",
       "<td>63001.0</td>\n",
       "<td>26822.0</td>\n",
       "<td>15025.0</td>\n",
       "<td>38.0</td>\n",
       "<td>0.4022562</td>\n",
       "<td>42,397 / 105,398</td></tr>\n",
       "<tr><td>106.0</td>\n",
       "<td>13837.0</td>\n",
       "<td>54914.0</td>\n",
       "<td>36504.0</td>\n",
       "<td>120.0</td>\n",
       "<td>0.4793944</td>\n",
       "<td>50,567 / 105,481</td></tr>\n",
       "<tr><td>27.0</td>\n",
       "<td>2851.0</td>\n",
       "<td>13886.0</td>\n",
       "<td>88202.0</td>\n",
       "<td>299.0</td>\n",
       "<td>0.1620957</td>\n",
       "<td>17,063 / 105,265</td></tr>\n",
       "<tr><td>1.0</td>\n",
       "<td>79.0</td>\n",
       "<td>358.0</td>\n",
       "<td>4590.0</td>\n",
       "<td>100379.0</td>\n",
       "<td>0.0477008</td>\n",
       "<td>5,028 / 105,407</td></tr>\n",
       "<tr><td>92733.0</td>\n",
       "<td>88308.0</td>\n",
       "<td>100275.0</td>\n",
       "<td>144717.0</td>\n",
       "<td>100842.0</td>\n",
       "<td>0.2434961</td>\n",
       "<td>128,292 / 526,875</td></tr></table></div>"
      ],
      "text/plain": [
       "Grade 1    Grade 2    Grade 3    Grade 4    Grade 5    Error      Rate\n",
       "---------  ---------  ---------  ---------  ---------  ---------  -----------------\n",
       "92087      8540       4295       396        6          0.125679   13,237 / 105,324\n",
       "512        63001      26822      15025      38         0.402256   42,397 / 105,398\n",
       "106        13837      54914      36504      120        0.479394   50,567 / 105,481\n",
       "27         2851       13886      88202      299        0.162096   17,063 / 105,265\n",
       "1          79         358        4590       100379     0.0477008  5,028 / 105,407\n",
       "92733      88308      100275     144717     100842     0.243496   128,292 / 526,875"
      ]
     },
     "metadata": {},
     "output_type": "display_data"
    },
    {
     "name": "stdout",
     "output_type": "stream",
     "text": [
      "Top-5 Hit Ratios: \n"
     ]
    },
    {
     "data": {
      "text/html": [
       "<div style=\"overflow:auto\"><table style=\"width:50%\"><tr><td><b>k</b></td>\n",
       "<td><b>hit_ratio</b></td></tr>\n",
       "<tr><td>1</td>\n",
       "<td>0.7565039</td></tr>\n",
       "<tr><td>2</td>\n",
       "<td>0.9175421</td></tr>\n",
       "<tr><td>3</td>\n",
       "<td>0.9885229</td></tr>\n",
       "<tr><td>4</td>\n",
       "<td>0.9992218</td></tr>\n",
       "<tr><td>5</td>\n",
       "<td>1.0</td></tr></table></div>"
      ],
      "text/plain": [
       "k    hit_ratio\n",
       "---  -----------\n",
       "1    0.756504\n",
       "2    0.917542\n",
       "3    0.988523\n",
       "4    0.999222\n",
       "5    1"
      ]
     },
     "metadata": {},
     "output_type": "display_data"
    },
    {
     "name": "stdout",
     "output_type": "stream",
     "text": [
      "\n",
      "ModelMetricsMultinomial: drf\n",
      "** Reported on validation data. **\n",
      "\n",
      "MSE: 0.21191117407229793\n",
      "RMSE: 0.4603381084293347\n",
      "LogLoss: 0.5884243170347278\n",
      "Mean Per-Class Error: 0.29971909663299856\n",
      "Confusion Matrix: Row labels: Actual class; Column labels: Predicted class\n",
      "\n"
     ]
    },
    {
     "data": {
      "text/html": [
       "<div style=\"overflow:auto\"><table style=\"width:50%\"><tr><td><b>Grade 1</b></td>\n",
       "<td><b>Grade 2</b></td>\n",
       "<td><b>Grade 3</b></td>\n",
       "<td><b>Grade 4</b></td>\n",
       "<td><b>Grade 5</b></td>\n",
       "<td><b>Error</b></td>\n",
       "<td><b>Rate</b></td></tr>\n",
       "<tr><td>15398.0</td>\n",
       "<td>2073.0</td>\n",
       "<td>769.0</td>\n",
       "<td>112.0</td>\n",
       "<td>6.0</td>\n",
       "<td>0.1612376</td>\n",
       "<td>2,960 / 18,358</td></tr>\n",
       "<tr><td>376.0</td>\n",
       "<td>12053.0</td>\n",
       "<td>8662.0</td>\n",
       "<td>4535.0</td>\n",
       "<td>24.0</td>\n",
       "<td>0.5300975</td>\n",
       "<td>13,597 / 25,650</td></tr>\n",
       "<tr><td>76.0</td>\n",
       "<td>6210.0</td>\n",
       "<td>15481.0</td>\n",
       "<td>14886.0</td>\n",
       "<td>38.0</td>\n",
       "<td>0.5780709</td>\n",
       "<td>21,210 / 36,691</td></tr>\n",
       "<tr><td>5.0</td>\n",
       "<td>1357.0</td>\n",
       "<td>6850.0</td>\n",
       "<td>37277.0</td>\n",
       "<td>138.0</td>\n",
       "<td>0.1830057</td>\n",
       "<td>8,350 / 45,627</td></tr>\n",
       "<tr><td>2.0</td>\n",
       "<td>35.0</td>\n",
       "<td>182.0</td>\n",
       "<td>2697.0</td>\n",
       "<td>60223.0</td>\n",
       "<td>0.0461838</td>\n",
       "<td>2,916 / 63,139</td></tr>\n",
       "<tr><td>15857.0</td>\n",
       "<td>21728.0</td>\n",
       "<td>31944.0</td>\n",
       "<td>59507.0</td>\n",
       "<td>60429.0</td>\n",
       "<td>0.2587971</td>\n",
       "<td>49,033 / 189,465</td></tr></table></div>"
      ],
      "text/plain": [
       "Grade 1    Grade 2    Grade 3    Grade 4    Grade 5    Error      Rate\n",
       "---------  ---------  ---------  ---------  ---------  ---------  ----------------\n",
       "15398      2073       769        112        6          0.161238   2,960 / 18,358\n",
       "376        12053      8662       4535       24         0.530097   13,597 / 25,650\n",
       "76         6210       15481      14886      38         0.578071   21,210 / 36,691\n",
       "5          1357       6850       37277      138        0.183006   8,350 / 45,627\n",
       "2          35         182        2697       60223      0.0461838  2,916 / 63,139\n",
       "15857      21728      31944      59507      60429      0.258797   49,033 / 189,465"
      ]
     },
     "metadata": {},
     "output_type": "display_data"
    },
    {
     "name": "stdout",
     "output_type": "stream",
     "text": [
      "Top-5 Hit Ratios: \n"
     ]
    },
    {
     "data": {
      "text/html": [
       "<div style=\"overflow:auto\"><table style=\"width:50%\"><tr><td><b>k</b></td>\n",
       "<td><b>hit_ratio</b></td></tr>\n",
       "<tr><td>1</td>\n",
       "<td>0.7412028</td></tr>\n",
       "<tr><td>2</td>\n",
       "<td>0.9134035</td></tr>\n",
       "<tr><td>3</td>\n",
       "<td>0.9849840</td></tr>\n",
       "<tr><td>4</td>\n",
       "<td>0.9989919</td></tr>\n",
       "<tr><td>5</td>\n",
       "<td>1.0</td></tr></table></div>"
      ],
      "text/plain": [
       "k    hit_ratio\n",
       "---  -----------\n",
       "1    0.741203\n",
       "2    0.913404\n",
       "3    0.984984\n",
       "4    0.998992\n",
       "5    1"
      ]
     },
     "metadata": {},
     "output_type": "display_data"
    },
    {
     "name": "stdout",
     "output_type": "stream",
     "text": [
      "Scoring History: \n"
     ]
    },
    {
     "data": {
      "text/html": [
       "<div style=\"overflow:auto\"><table style=\"width:50%\"><tr><td><b></b></td>\n",
       "<td><b>timestamp</b></td>\n",
       "<td><b>duration</b></td>\n",
       "<td><b>number_of_trees</b></td>\n",
       "<td><b>training_rmse</b></td>\n",
       "<td><b>training_logloss</b></td>\n",
       "<td><b>training_classification_error</b></td>\n",
       "<td><b>validation_rmse</b></td>\n",
       "<td><b>validation_logloss</b></td>\n",
       "<td><b>validation_classification_error</b></td></tr>\n",
       "<tr><td></td>\n",
       "<td>2018-07-29 20:47:12</td>\n",
       "<td> 0.000 sec</td>\n",
       "<td>0.0</td>\n",
       "<td>nan</td>\n",
       "<td>nan</td>\n",
       "<td>nan</td>\n",
       "<td>nan</td>\n",
       "<td>nan</td>\n",
       "<td>nan</td></tr>\n",
       "<tr><td></td>\n",
       "<td>2018-07-29 20:47:24</td>\n",
       "<td>12.108 sec</td>\n",
       "<td>1.0</td>\n",
       "<td>0.4778342</td>\n",
       "<td>1.3613407</td>\n",
       "<td>0.2881482</td>\n",
       "<td>0.4854043</td>\n",
       "<td>2.2174121</td>\n",
       "<td>0.2932626</td></tr>\n",
       "<tr><td></td>\n",
       "<td>2018-07-29 20:47:34</td>\n",
       "<td>21.679 sec</td>\n",
       "<td>2.0</td>\n",
       "<td>0.4721332</td>\n",
       "<td>1.1896456</td>\n",
       "<td>0.2805074</td>\n",
       "<td>0.4691374</td>\n",
       "<td>1.0008355</td>\n",
       "<td>0.2788167</td></tr>\n",
       "<tr><td></td>\n",
       "<td>2018-07-29 20:47:43</td>\n",
       "<td>30.824 sec</td>\n",
       "<td>3.0</td>\n",
       "<td>0.4693692</td>\n",
       "<td>1.0843619</td>\n",
       "<td>0.2748756</td>\n",
       "<td>0.4659377</td>\n",
       "<td>0.7548230</td>\n",
       "<td>0.2730161</td></tr>\n",
       "<tr><td></td>\n",
       "<td>2018-07-29 20:47:52</td>\n",
       "<td>39.304 sec</td>\n",
       "<td>4.0</td>\n",
       "<td>0.4691667</td>\n",
       "<td>0.9576654</td>\n",
       "<td>0.2735766</td>\n",
       "<td>0.4648185</td>\n",
       "<td>0.6693601</td>\n",
       "<td>0.2701185</td></tr>\n",
       "<tr><td></td>\n",
       "<td>2018-07-29 20:48:01</td>\n",
       "<td>48.764 sec</td>\n",
       "<td>5.0</td>\n",
       "<td>0.4665405</td>\n",
       "<td>0.8804666</td>\n",
       "<td>0.2677372</td>\n",
       "<td>0.4633857</td>\n",
       "<td>0.6360252</td>\n",
       "<td>0.2659119</td></tr>\n",
       "<tr><td></td>\n",
       "<td>2018-07-29 20:48:11</td>\n",
       "<td>58.272 sec</td>\n",
       "<td>6.0</td>\n",
       "<td>0.4647581</td>\n",
       "<td>0.8164226</td>\n",
       "<td>0.2646477</td>\n",
       "<td>0.4626807</td>\n",
       "<td>0.6184185</td>\n",
       "<td>0.2648827</td></tr>\n",
       "<tr><td></td>\n",
       "<td>2018-07-29 20:48:20</td>\n",
       "<td> 1 min  7.717 sec</td>\n",
       "<td>7.0</td>\n",
       "<td>0.4634293</td>\n",
       "<td>0.7656544</td>\n",
       "<td>0.2615437</td>\n",
       "<td>0.4623488</td>\n",
       "<td>0.6093061</td>\n",
       "<td>0.2641491</td></tr>\n",
       "<tr><td></td>\n",
       "<td>2018-07-29 20:48:30</td>\n",
       "<td> 1 min 17.687 sec</td>\n",
       "<td>8.0</td>\n",
       "<td>0.4621430</td>\n",
       "<td>0.7245669</td>\n",
       "<td>0.2584985</td>\n",
       "<td>0.4617248</td>\n",
       "<td>0.6048440</td>\n",
       "<td>0.2631568</td></tr>\n",
       "<tr><td></td>\n",
       "<td>2018-07-29 20:48:41</td>\n",
       "<td> 1 min 29.001 sec</td>\n",
       "<td>9.0</td>\n",
       "<td>0.4601955</td>\n",
       "<td>0.6969787</td>\n",
       "<td>0.2545623</td>\n",
       "<td>0.4611207</td>\n",
       "<td>0.6003265</td>\n",
       "<td>0.2619745</td></tr>\n",
       "<tr><td></td>\n",
       "<td>2018-07-29 20:48:52</td>\n",
       "<td> 1 min 39.612 sec</td>\n",
       "<td>10.0</td>\n",
       "<td>0.4594201</td>\n",
       "<td>0.6726789</td>\n",
       "<td>0.2526381</td>\n",
       "<td>0.4608109</td>\n",
       "<td>0.5979844</td>\n",
       "<td>0.2613834</td></tr>\n",
       "<tr><td></td>\n",
       "<td>2018-07-29 20:49:02</td>\n",
       "<td> 1 min 50.130 sec</td>\n",
       "<td>11.0</td>\n",
       "<td>0.4589874</td>\n",
       "<td>0.6536001</td>\n",
       "<td>0.2516246</td>\n",
       "<td>0.4607333</td>\n",
       "<td>0.5964569</td>\n",
       "<td>0.2612725</td></tr>\n",
       "<tr><td></td>\n",
       "<td>2018-07-29 20:49:13</td>\n",
       "<td> 2 min  0.874 sec</td>\n",
       "<td>12.0</td>\n",
       "<td>0.4585061</td>\n",
       "<td>0.6356775</td>\n",
       "<td>0.2503416</td>\n",
       "<td>0.4604480</td>\n",
       "<td>0.5944528</td>\n",
       "<td>0.2607711</td></tr>\n",
       "<tr><td></td>\n",
       "<td>2018-07-29 20:49:24</td>\n",
       "<td> 2 min 11.991 sec</td>\n",
       "<td>13.0</td>\n",
       "<td>0.4580619</td>\n",
       "<td>0.6243632</td>\n",
       "<td>0.2488639</td>\n",
       "<td>0.4603898</td>\n",
       "<td>0.5929519</td>\n",
       "<td>0.2597894</td></tr>\n",
       "<tr><td></td>\n",
       "<td>2018-07-29 20:49:35</td>\n",
       "<td> 2 min 23.072 sec</td>\n",
       "<td>14.0</td>\n",
       "<td>0.4575528</td>\n",
       "<td>0.6160490</td>\n",
       "<td>0.2473340</td>\n",
       "<td>0.4603151</td>\n",
       "<td>0.5910947</td>\n",
       "<td>0.2598791</td></tr>\n",
       "<tr><td></td>\n",
       "<td>2018-07-29 20:49:47</td>\n",
       "<td> 2 min 34.302 sec</td>\n",
       "<td>15.0</td>\n",
       "<td>0.4577089</td>\n",
       "<td>0.6101095</td>\n",
       "<td>0.2465642</td>\n",
       "<td>0.4603978</td>\n",
       "<td>0.5907674</td>\n",
       "<td>0.2598105</td></tr>\n",
       "<tr><td></td>\n",
       "<td>2018-07-29 20:49:58</td>\n",
       "<td> 2 min 46.142 sec</td>\n",
       "<td>16.0</td>\n",
       "<td>0.4572541</td>\n",
       "<td>0.6040385</td>\n",
       "<td>0.2451480</td>\n",
       "<td>0.4601801</td>\n",
       "<td>0.5893366</td>\n",
       "<td>0.2593355</td></tr>\n",
       "<tr><td></td>\n",
       "<td>2018-07-29 20:50:12</td>\n",
       "<td> 2 min 59.456 sec</td>\n",
       "<td>17.0</td>\n",
       "<td>0.4576045</td>\n",
       "<td>0.6008472</td>\n",
       "<td>0.2453807</td>\n",
       "<td>0.4603253</td>\n",
       "<td>0.5891184</td>\n",
       "<td>0.2593249</td></tr>\n",
       "<tr><td></td>\n",
       "<td>2018-07-29 20:50:24</td>\n",
       "<td> 3 min 11.504 sec</td>\n",
       "<td>18.0</td>\n",
       "<td>0.4573787</td>\n",
       "<td>0.5971887</td>\n",
       "<td>0.2444389</td>\n",
       "<td>0.4604316</td>\n",
       "<td>0.5889745</td>\n",
       "<td>0.2592352</td></tr>\n",
       "<tr><td></td>\n",
       "<td>2018-07-29 20:50:36</td>\n",
       "<td> 3 min 23.914 sec</td>\n",
       "<td>19.0</td>\n",
       "<td>0.4570624</td>\n",
       "<td>0.5937973</td>\n",
       "<td>0.2434961</td>\n",
       "<td>0.4603381</td>\n",
       "<td>0.5884243</td>\n",
       "<td>0.2587971</td></tr></table></div>"
      ],
      "text/plain": [
       "    timestamp            duration          number_of_trees    training_rmse    training_logloss    training_classification_error    validation_rmse    validation_logloss    validation_classification_error\n",
       "--  -------------------  ----------------  -----------------  ---------------  ------------------  -------------------------------  -----------------  --------------------  ---------------------------------\n",
       "    2018-07-29 20:47:12  0.000 sec         0                  nan              nan                 nan                              nan                nan                   nan\n",
       "    2018-07-29 20:47:24  12.108 sec        1                  0.477834         1.36134             0.288148                         0.485404           2.21741               0.293263\n",
       "    2018-07-29 20:47:34  21.679 sec        2                  0.472133         1.18965             0.280507                         0.469137           1.00084               0.278817\n",
       "    2018-07-29 20:47:43  30.824 sec        3                  0.469369         1.08436             0.274876                         0.465938           0.754823              0.273016\n",
       "    2018-07-29 20:47:52  39.304 sec        4                  0.469167         0.957665            0.273577                         0.464819           0.66936               0.270118\n",
       "    2018-07-29 20:48:01  48.764 sec        5                  0.46654          0.880467            0.267737                         0.463386           0.636025              0.265912\n",
       "    2018-07-29 20:48:11  58.272 sec        6                  0.464758         0.816423            0.264648                         0.462681           0.618418              0.264883\n",
       "    2018-07-29 20:48:20  1 min  7.717 sec  7                  0.463429         0.765654            0.261544                         0.462349           0.609306              0.264149\n",
       "    2018-07-29 20:48:30  1 min 17.687 sec  8                  0.462143         0.724567            0.258499                         0.461725           0.604844              0.263157\n",
       "    2018-07-29 20:48:41  1 min 29.001 sec  9                  0.460195         0.696979            0.254562                         0.461121           0.600326              0.261975\n",
       "    2018-07-29 20:48:52  1 min 39.612 sec  10                 0.45942          0.672679            0.252638                         0.460811           0.597984              0.261383\n",
       "    2018-07-29 20:49:02  1 min 50.130 sec  11                 0.458987         0.6536              0.251625                         0.460733           0.596457              0.261273\n",
       "    2018-07-29 20:49:13  2 min  0.874 sec  12                 0.458506         0.635678            0.250342                         0.460448           0.594453              0.260771\n",
       "    2018-07-29 20:49:24  2 min 11.991 sec  13                 0.458062         0.624363            0.248864                         0.46039            0.592952              0.259789\n",
       "    2018-07-29 20:49:35  2 min 23.072 sec  14                 0.457553         0.616049            0.247334                         0.460315           0.591095              0.259879\n",
       "    2018-07-29 20:49:47  2 min 34.302 sec  15                 0.457709         0.61011             0.246564                         0.460398           0.590767              0.259811\n",
       "    2018-07-29 20:49:58  2 min 46.142 sec  16                 0.457254         0.604039            0.245148                         0.46018            0.589337              0.259335\n",
       "    2018-07-29 20:50:12  2 min 59.456 sec  17                 0.457604         0.600847            0.245381                         0.460325           0.589118              0.259325\n",
       "    2018-07-29 20:50:24  3 min 11.504 sec  18                 0.457379         0.597189            0.244439                         0.460432           0.588974              0.259235\n",
       "    2018-07-29 20:50:36  3 min 23.914 sec  19                 0.457062         0.593797            0.243496                         0.460338           0.588424              0.258797"
      ]
     },
     "metadata": {},
     "output_type": "display_data"
    },
    {
     "name": "stdout",
     "output_type": "stream",
     "text": [
      "Variable Importances: \n"
     ]
    },
    {
     "data": {
      "text/html": [
       "<div style=\"overflow:auto\"><table style=\"width:50%\"><tr><td><b>variable</b></td>\n",
       "<td><b>relative_importance</b></td>\n",
       "<td><b>scaled_importance</b></td>\n",
       "<td><b>percentage</b></td></tr>\n",
       "<tr><td>height_ft_post_eq</td>\n",
       "<td>654894.6875000</td>\n",
       "<td>1.0</td>\n",
       "<td>0.1860660</td></tr>\n",
       "<tr><td>condition_post_eq_Not damaged</td>\n",
       "<td>407944.9375000</td>\n",
       "<td>0.6229169</td>\n",
       "<td>0.1159036</td></tr>\n",
       "<tr><td>count_floors_post_eq</td>\n",
       "<td>398516.4687500</td>\n",
       "<td>0.6085199</td>\n",
       "<td>0.1132249</td></tr>\n",
       "<tr><td>has_repair_started</td>\n",
       "<td>280537.3125000</td>\n",
       "<td>0.4283701</td>\n",
       "<td>0.0797051</td></tr>\n",
       "<tr><td>area_assesed_Both</td>\n",
       "<td>205993.8750000</td>\n",
       "<td>0.3145450</td>\n",
       "<td>0.0585261</td></tr>\n",
       "<tr><td>---</td>\n",
       "<td>---</td>\n",
       "<td>---</td>\n",
       "<td>---</td></tr>\n",
       "<tr><td>plan_configuration_Building with Central Courtyard</td>\n",
       "<td>82.2517014</td>\n",
       "<td>0.0001256</td>\n",
       "<td>0.0000234</td></tr>\n",
       "<tr><td>plan_configuration_E-shape</td>\n",
       "<td>65.2671509</td>\n",
       "<td>0.0000997</td>\n",
       "<td>0.0000185</td></tr>\n",
       "<tr><td>plan_configuration_H-shape</td>\n",
       "<td>48.4799423</td>\n",
       "<td>0.0000740</td>\n",
       "<td>0.0000138</td></tr>\n",
       "<tr><td>has_secondary_use_gov_office</td>\n",
       "<td>36.8537827</td>\n",
       "<td>0.0000563</td>\n",
       "<td>0.0000105</td></tr>\n",
       "<tr><td>has_secondary_use_use_police</td>\n",
       "<td>34.8458176</td>\n",
       "<td>0.0000532</td>\n",
       "<td>0.0000099</td></tr></table></div>"
      ],
      "text/plain": [
       "variable                                            relative_importance    scaled_importance       percentage\n",
       "--------------------------------------------------  ---------------------  ----------------------  ----------------------\n",
       "height_ft_post_eq                                   654894.6875            1.0                     0.18606599095986795\n",
       "condition_post_eq_Not damaged                       407944.9375            0.622916852566467       0.11590364145838164\n",
       "count_floors_post_eq                                398516.46875           0.6085199290153045      0.11322486361106111\n",
       "has_repair_started                                  280537.3125            0.42837011485148135     0.07970510991743332\n",
       "area_assesed_Both                                   205993.875             0.3145450389685746      0.058526134377198114\n",
       "---                                                 ---                    ---                     ---\n",
       "plan_configuration_Building with Central Courtyard  82.25170135498047      0.00012559531009324377  2.3369015832411306e-05\n",
       "plan_configuration_E-shape                          65.26715087890625      9.966052882190505e-05   1.8543435054832243e-05\n",
       "plan_configuration_H-shape                          48.479942321777344     7.402708137218986e-05   1.3773922253383285e-05\n",
       "has_secondary_use_gov_office                        36.853782653808594     5.627436495857755e-05   1.0470745481654998e-05\n",
       "has_secondary_use_use_police                        34.84581756591797      5.320827643134297e-05   9.900250681464415e-06"
      ]
     },
     "metadata": {},
     "output_type": "display_data"
    },
    {
     "name": "stdout",
     "output_type": "stream",
     "text": [
      "\n",
      "See the whole table with table.as_data_frame()\n",
      "\n"
     ]
    }
   ],
   "source": [
    "print(rf_1)"
   ]
  },
  {
   "cell_type": "code",
   "execution_count": 31,
   "metadata": {},
   "outputs": [
    {
     "data": {
      "text/html": [
       "<table>\n",
       "<thead>\n",
       "<tr><th style=\"text-align: right;\">  district_id</th><th style=\"text-align: right;\">  has_geotechnical_risk</th><th style=\"text-align: right;\">  has_geotechnical_risk_fault_crack</th><th style=\"text-align: right;\">  has_geotechnical_risk_flood</th><th style=\"text-align: right;\">  has_geotechnical_risk_land_settlement</th><th style=\"text-align: right;\">  has_geotechnical_risk_landslide</th><th style=\"text-align: right;\">  has_geotechnical_risk_liquefaction</th><th style=\"text-align: right;\">  has_geotechnical_risk_other</th><th style=\"text-align: right;\">  has_geotechnical_risk_rock_fall</th><th style=\"text-align: right;\">  has_repair_started</th><th style=\"text-align: right;\">  vdcmun_id</th><th style=\"text-align: right;\">  ward_id</th><th style=\"text-align: right;\">  count_families</th><th style=\"text-align: right;\">  has_secondary_use</th><th style=\"text-align: right;\">  has_secondary_use_agriculture</th><th style=\"text-align: right;\">  has_secondary_use_hotel</th><th style=\"text-align: right;\">  has_secondary_use_rental</th><th style=\"text-align: right;\">  has_secondary_use_institution</th><th style=\"text-align: right;\">  has_secondary_use_school</th><th style=\"text-align: right;\">  has_secondary_use_industry</th><th style=\"text-align: right;\">  has_secondary_use_health_post</th><th style=\"text-align: right;\">  has_secondary_use_gov_office</th><th style=\"text-align: right;\">  has_secondary_use_use_police</th><th style=\"text-align: right;\">  has_secondary_use_other</th><th style=\"text-align: right;\">  count_floors_pre_eq</th><th style=\"text-align: right;\">  count_floors_post_eq</th><th style=\"text-align: right;\">  age_building</th><th style=\"text-align: right;\">  plinth_area_sq_ft</th><th style=\"text-align: right;\">  height_ft_pre_eq</th><th style=\"text-align: right;\">  height_ft_post_eq</th><th style=\"text-align: right;\">  has_superstructure_adobe_mud</th><th style=\"text-align: right;\">  has_superstructure_mud_mortar_stone</th><th style=\"text-align: right;\">  has_superstructure_stone_flag</th><th style=\"text-align: right;\">  has_superstructure_cement_mortar_stone</th><th style=\"text-align: right;\">  has_superstructure_mud_mortar_brick</th><th style=\"text-align: right;\">  has_superstructure_cement_mortar_brick</th><th style=\"text-align: right;\">  has_superstructure_timber</th><th style=\"text-align: right;\">  has_superstructure_bamboo</th><th style=\"text-align: right;\">  has_superstructure_rc_non_engineered</th><th style=\"text-align: right;\">  has_superstructure_rc_engineered</th><th style=\"text-align: right;\">  has_superstructure_other</th><th style=\"text-align: right;\">  area_assesed_Both</th><th style=\"text-align: right;\">  area_assesed_Building removed</th><th style=\"text-align: right;\">  area_assesed_Exterior</th><th style=\"text-align: right;\">  area_assesed_Interior</th><th style=\"text-align: right;\">  area_assesed_Not able to inspect</th><th style=\"text-align: right;\">  legal_ownership_status_Institutional</th><th style=\"text-align: right;\">  legal_ownership_status_Other</th><th style=\"text-align: right;\">  legal_ownership_status_Private</th><th style=\"text-align: right;\">  legal_ownership_status_Public</th><th style=\"text-align: right;\">  land_surface_condition_Flat</th><th style=\"text-align: right;\">  land_surface_condition_Moderate slope</th><th style=\"text-align: right;\">  land_surface_condition_Steep slope</th><th style=\"text-align: right;\">  foundation_type_Bamboo/Timber</th><th style=\"text-align: right;\">  foundation_type_Cement-Stone/Brick</th><th style=\"text-align: right;\">  foundation_type_Mud mortar-Stone/Brick</th><th style=\"text-align: right;\">  foundation_type_Other</th><th style=\"text-align: right;\">  foundation_type_RC</th><th style=\"text-align: right;\">  roof_type_Bamboo/Timber-Heavy roof</th><th style=\"text-align: right;\">  roof_type_Bamboo/Timber-Light roof</th><th style=\"text-align: right;\">  roof_type_RCC/RB/RBC</th><th style=\"text-align: right;\">  ground_floor_type_Brick/Stone</th><th style=\"text-align: right;\">  ground_floor_type_Mud</th><th style=\"text-align: right;\">  ground_floor_type_Other</th><th style=\"text-align: right;\">  ground_floor_type_RC</th><th style=\"text-align: right;\">  ground_floor_type_Timber</th><th style=\"text-align: right;\">  other_floor_type_Not applicable</th><th style=\"text-align: right;\">  other_floor_type_RCC/RB/RBC</th><th style=\"text-align: right;\">  other_floor_type_TImber/Bamboo-Mud</th><th style=\"text-align: right;\">  other_floor_type_Timber-Planck</th><th style=\"text-align: right;\">  position_Attached-1 side</th><th style=\"text-align: right;\">  position_Attached-2 side</th><th style=\"text-align: right;\">  position_Attached-3 side</th><th style=\"text-align: right;\">  position_Not attached</th><th style=\"text-align: right;\">  plan_configuration_Building with Central Courtyard</th><th style=\"text-align: right;\">  plan_configuration_E-shape</th><th style=\"text-align: right;\">  plan_configuration_H-shape</th><th style=\"text-align: right;\">  plan_configuration_L-shape</th><th style=\"text-align: right;\">  plan_configuration_Multi-projected</th><th style=\"text-align: right;\">  plan_configuration_Others</th><th style=\"text-align: right;\">  plan_configuration_Rectangular</th><th style=\"text-align: right;\">  plan_configuration_Square</th><th style=\"text-align: right;\">  plan_configuration_T-shape</th><th style=\"text-align: right;\">  plan_configuration_U-shape</th><th style=\"text-align: right;\">  condition_post_eq_Covered by landslide</th><th style=\"text-align: right;\">  condition_post_eq_Damaged-Not used</th><th style=\"text-align: right;\">  condition_post_eq_Damaged-Repaired and used</th><th style=\"text-align: right;\">  condition_post_eq_Damaged-Rubble Clear-New building built</th><th style=\"text-align: right;\">  condition_post_eq_Damaged-Rubble clear</th><th style=\"text-align: right;\">  condition_post_eq_Damaged-Rubble unclear</th><th style=\"text-align: right;\">  condition_post_eq_Damaged-Used in risk</th><th style=\"text-align: right;\">  condition_post_eq_Not damaged</th><th>building_id  </th><th>damage_grade  </th></tr>\n",
       "</thead>\n",
       "<tbody>\n",
       "<tr><td style=\"text-align: right;\">           21</td><td style=\"text-align: right;\">                      0</td><td style=\"text-align: right;\">                                  0</td><td style=\"text-align: right;\">                            0</td><td style=\"text-align: right;\">                                      0</td><td style=\"text-align: right;\">                                0</td><td style=\"text-align: right;\">                                   0</td><td style=\"text-align: right;\">                            0</td><td style=\"text-align: right;\">                                0</td><td style=\"text-align: right;\">                   2</td><td style=\"text-align: right;\">       2102</td><td style=\"text-align: right;\">   210204</td><td style=\"text-align: right;\">               1</td><td style=\"text-align: right;\">                  0</td><td style=\"text-align: right;\">                              0</td><td style=\"text-align: right;\">                        0</td><td style=\"text-align: right;\">                         0</td><td style=\"text-align: right;\">                              0</td><td style=\"text-align: right;\">                         0</td><td style=\"text-align: right;\">                           0</td><td style=\"text-align: right;\">                              0</td><td style=\"text-align: right;\">                             0</td><td style=\"text-align: right;\">                             0</td><td style=\"text-align: right;\">                        0</td><td style=\"text-align: right;\">                    2</td><td style=\"text-align: right;\">                     2</td><td style=\"text-align: right;\">             1</td><td style=\"text-align: right;\">                620</td><td style=\"text-align: right;\">                12</td><td style=\"text-align: right;\">                 12</td><td style=\"text-align: right;\">                             0</td><td style=\"text-align: right;\">                                    0</td><td style=\"text-align: right;\">                              0</td><td style=\"text-align: right;\">                                       1</td><td style=\"text-align: right;\">                                    0</td><td style=\"text-align: right;\">                                       1</td><td style=\"text-align: right;\">                          0</td><td style=\"text-align: right;\">                          0</td><td style=\"text-align: right;\">                                     0</td><td style=\"text-align: right;\">                                 1</td><td style=\"text-align: right;\">                         0</td><td style=\"text-align: right;\">                  1</td><td style=\"text-align: right;\">                              0</td><td style=\"text-align: right;\">                      0</td><td style=\"text-align: right;\">                      0</td><td style=\"text-align: right;\">                                 0</td><td style=\"text-align: right;\">                                     0</td><td style=\"text-align: right;\">                             0</td><td style=\"text-align: right;\">                               1</td><td style=\"text-align: right;\">                              0</td><td style=\"text-align: right;\">                            1</td><td style=\"text-align: right;\">                                      0</td><td style=\"text-align: right;\">                                   0</td><td style=\"text-align: right;\">                              0</td><td style=\"text-align: right;\">                                   0</td><td style=\"text-align: right;\">                                       0</td><td style=\"text-align: right;\">                      0</td><td style=\"text-align: right;\">                   1</td><td style=\"text-align: right;\">                                   0</td><td style=\"text-align: right;\">                                   0</td><td style=\"text-align: right;\">                     1</td><td style=\"text-align: right;\">                              0</td><td style=\"text-align: right;\">                      0</td><td style=\"text-align: right;\">                        0</td><td style=\"text-align: right;\">                     1</td><td style=\"text-align: right;\">                         0</td><td style=\"text-align: right;\">                                0</td><td style=\"text-align: right;\">                            1</td><td style=\"text-align: right;\">                                   0</td><td style=\"text-align: right;\">                               0</td><td style=\"text-align: right;\">                         0</td><td style=\"text-align: right;\">                         0</td><td style=\"text-align: right;\">                         0</td><td style=\"text-align: right;\">                      1</td><td style=\"text-align: right;\">                                                   0</td><td style=\"text-align: right;\">                           0</td><td style=\"text-align: right;\">                           0</td><td style=\"text-align: right;\">                           0</td><td style=\"text-align: right;\">                                   0</td><td style=\"text-align: right;\">                          0</td><td style=\"text-align: right;\">                               1</td><td style=\"text-align: right;\">                          0</td><td style=\"text-align: right;\">                           0</td><td style=\"text-align: right;\">                           0</td><td style=\"text-align: right;\">                                       0</td><td style=\"text-align: right;\">                                   0</td><td style=\"text-align: right;\">                                            0</td><td style=\"text-align: right;\">                                                          0</td><td style=\"text-align: right;\">                                       0</td><td style=\"text-align: right;\">                                         0</td><td style=\"text-align: right;\">                                       0</td><td style=\"text-align: right;\">                              1</td><td>1e96b58fa58  </td><td>Grade 1       </td></tr>\n",
       "<tr><td style=\"text-align: right;\">           39</td><td style=\"text-align: right;\">                      0</td><td style=\"text-align: right;\">                                  0</td><td style=\"text-align: right;\">                            0</td><td style=\"text-align: right;\">                                      0</td><td style=\"text-align: right;\">                                0</td><td style=\"text-align: right;\">                                   0</td><td style=\"text-align: right;\">                            0</td><td style=\"text-align: right;\">                                0</td><td style=\"text-align: right;\">                   1</td><td style=\"text-align: right;\">       3929</td><td style=\"text-align: right;\">   392902</td><td style=\"text-align: right;\">               1</td><td style=\"text-align: right;\">                  0</td><td style=\"text-align: right;\">                              0</td><td style=\"text-align: right;\">                        0</td><td style=\"text-align: right;\">                         0</td><td style=\"text-align: right;\">                              0</td><td style=\"text-align: right;\">                         0</td><td style=\"text-align: right;\">                           0</td><td style=\"text-align: right;\">                              0</td><td style=\"text-align: right;\">                             0</td><td style=\"text-align: right;\">                             0</td><td style=\"text-align: right;\">                        0</td><td style=\"text-align: right;\">                    2</td><td style=\"text-align: right;\">                     2</td><td style=\"text-align: right;\">            13</td><td style=\"text-align: right;\">                202</td><td style=\"text-align: right;\">                17</td><td style=\"text-align: right;\">                 17</td><td style=\"text-align: right;\">                             0</td><td style=\"text-align: right;\">                                    1</td><td style=\"text-align: right;\">                              0</td><td style=\"text-align: right;\">                                       0</td><td style=\"text-align: right;\">                                    0</td><td style=\"text-align: right;\">                                       0</td><td style=\"text-align: right;\">                          0</td><td style=\"text-align: right;\">                          0</td><td style=\"text-align: right;\">                                     0</td><td style=\"text-align: right;\">                                 0</td><td style=\"text-align: right;\">                         0</td><td style=\"text-align: right;\">                  1</td><td style=\"text-align: right;\">                              0</td><td style=\"text-align: right;\">                      0</td><td style=\"text-align: right;\">                      0</td><td style=\"text-align: right;\">                                 0</td><td style=\"text-align: right;\">                                     0</td><td style=\"text-align: right;\">                             0</td><td style=\"text-align: right;\">                               1</td><td style=\"text-align: right;\">                              0</td><td style=\"text-align: right;\">                            1</td><td style=\"text-align: right;\">                                      0</td><td style=\"text-align: right;\">                                   0</td><td style=\"text-align: right;\">                              0</td><td style=\"text-align: right;\">                                   0</td><td style=\"text-align: right;\">                                       1</td><td style=\"text-align: right;\">                      0</td><td style=\"text-align: right;\">                   0</td><td style=\"text-align: right;\">                                   0</td><td style=\"text-align: right;\">                                   1</td><td style=\"text-align: right;\">                     0</td><td style=\"text-align: right;\">                              0</td><td style=\"text-align: right;\">                      1</td><td style=\"text-align: right;\">                        0</td><td style=\"text-align: right;\">                     0</td><td style=\"text-align: right;\">                         0</td><td style=\"text-align: right;\">                                0</td><td style=\"text-align: right;\">                            0</td><td style=\"text-align: right;\">                                   1</td><td style=\"text-align: right;\">                               0</td><td style=\"text-align: right;\">                         0</td><td style=\"text-align: right;\">                         0</td><td style=\"text-align: right;\">                         0</td><td style=\"text-align: right;\">                      1</td><td style=\"text-align: right;\">                                                   0</td><td style=\"text-align: right;\">                           0</td><td style=\"text-align: right;\">                           0</td><td style=\"text-align: right;\">                           0</td><td style=\"text-align: right;\">                                   0</td><td style=\"text-align: right;\">                          0</td><td style=\"text-align: right;\">                               1</td><td style=\"text-align: right;\">                          0</td><td style=\"text-align: right;\">                           0</td><td style=\"text-align: right;\">                           0</td><td style=\"text-align: right;\">                                       0</td><td style=\"text-align: right;\">                                   0</td><td style=\"text-align: right;\">                                            1</td><td style=\"text-align: right;\">                                                          0</td><td style=\"text-align: right;\">                                       0</td><td style=\"text-align: right;\">                                         0</td><td style=\"text-align: right;\">                                       0</td><td style=\"text-align: right;\">                              0</td><td>392cbd772c9  </td><td>Grade 3       </td></tr>\n",
       "<tr><td style=\"text-align: right;\">            9</td><td style=\"text-align: right;\">                      0</td><td style=\"text-align: right;\">                                  0</td><td style=\"text-align: right;\">                            0</td><td style=\"text-align: right;\">                                      0</td><td style=\"text-align: right;\">                                0</td><td style=\"text-align: right;\">                                   0</td><td style=\"text-align: right;\">                            0</td><td style=\"text-align: right;\">                                0</td><td style=\"text-align: right;\">                   1</td><td style=\"text-align: right;\">        913</td><td style=\"text-align: right;\">    91313</td><td style=\"text-align: right;\">               1</td><td style=\"text-align: right;\">                  0</td><td style=\"text-align: right;\">                              0</td><td style=\"text-align: right;\">                        0</td><td style=\"text-align: right;\">                         0</td><td style=\"text-align: right;\">                              0</td><td style=\"text-align: right;\">                         0</td><td style=\"text-align: right;\">                           0</td><td style=\"text-align: right;\">                              0</td><td style=\"text-align: right;\">                             0</td><td style=\"text-align: right;\">                             0</td><td style=\"text-align: right;\">                        0</td><td style=\"text-align: right;\">                    1</td><td style=\"text-align: right;\">                     1</td><td style=\"text-align: right;\">            18</td><td style=\"text-align: right;\">                455</td><td style=\"text-align: right;\">                 9</td><td style=\"text-align: right;\">                  9</td><td style=\"text-align: right;\">                             1</td><td style=\"text-align: right;\">                                    0</td><td style=\"text-align: right;\">                              0</td><td style=\"text-align: right;\">                                       0</td><td style=\"text-align: right;\">                                    0</td><td style=\"text-align: right;\">                                       0</td><td style=\"text-align: right;\">                          0</td><td style=\"text-align: right;\">                          0</td><td style=\"text-align: right;\">                                     0</td><td style=\"text-align: right;\">                                 0</td><td style=\"text-align: right;\">                         0</td><td style=\"text-align: right;\">                  1</td><td style=\"text-align: right;\">                              0</td><td style=\"text-align: right;\">                      0</td><td style=\"text-align: right;\">                      0</td><td style=\"text-align: right;\">                                 0</td><td style=\"text-align: right;\">                                     0</td><td style=\"text-align: right;\">                             0</td><td style=\"text-align: right;\">                               1</td><td style=\"text-align: right;\">                              0</td><td style=\"text-align: right;\">                            1</td><td style=\"text-align: right;\">                                      0</td><td style=\"text-align: right;\">                                   0</td><td style=\"text-align: right;\">                              0</td><td style=\"text-align: right;\">                                   0</td><td style=\"text-align: right;\">                                       1</td><td style=\"text-align: right;\">                      0</td><td style=\"text-align: right;\">                   0</td><td style=\"text-align: right;\">                                   0</td><td style=\"text-align: right;\">                                   1</td><td style=\"text-align: right;\">                     0</td><td style=\"text-align: right;\">                              0</td><td style=\"text-align: right;\">                      1</td><td style=\"text-align: right;\">                        0</td><td style=\"text-align: right;\">                     0</td><td style=\"text-align: right;\">                         0</td><td style=\"text-align: right;\">                                1</td><td style=\"text-align: right;\">                            0</td><td style=\"text-align: right;\">                                   0</td><td style=\"text-align: right;\">                               0</td><td style=\"text-align: right;\">                         0</td><td style=\"text-align: right;\">                         0</td><td style=\"text-align: right;\">                         0</td><td style=\"text-align: right;\">                      1</td><td style=\"text-align: right;\">                                                   0</td><td style=\"text-align: right;\">                           0</td><td style=\"text-align: right;\">                           0</td><td style=\"text-align: right;\">                           0</td><td style=\"text-align: right;\">                                   0</td><td style=\"text-align: right;\">                          0</td><td style=\"text-align: right;\">                               1</td><td style=\"text-align: right;\">                          0</td><td style=\"text-align: right;\">                           0</td><td style=\"text-align: right;\">                           0</td><td style=\"text-align: right;\">                                       0</td><td style=\"text-align: right;\">                                   0</td><td style=\"text-align: right;\">                                            1</td><td style=\"text-align: right;\">                                                          0</td><td style=\"text-align: right;\">                                       0</td><td style=\"text-align: right;\">                                         0</td><td style=\"text-align: right;\">                                       0</td><td style=\"text-align: right;\">                              0</td><td>d49acbd60b   </td><td>Grade 2       </td></tr>\n",
       "<tr><td style=\"text-align: right;\">           21</td><td style=\"text-align: right;\">                      1</td><td style=\"text-align: right;\">                                  0</td><td style=\"text-align: right;\">                            0</td><td style=\"text-align: right;\">                                      0</td><td style=\"text-align: right;\">                                1</td><td style=\"text-align: right;\">                                   0</td><td style=\"text-align: right;\">                            0</td><td style=\"text-align: right;\">                                0</td><td style=\"text-align: right;\">                   0</td><td style=\"text-align: right;\">       2149</td><td style=\"text-align: right;\">   214907</td><td style=\"text-align: right;\">               0</td><td style=\"text-align: right;\">                  0</td><td style=\"text-align: right;\">                              0</td><td style=\"text-align: right;\">                        0</td><td style=\"text-align: right;\">                         0</td><td style=\"text-align: right;\">                              0</td><td style=\"text-align: right;\">                         0</td><td style=\"text-align: right;\">                           0</td><td style=\"text-align: right;\">                              0</td><td style=\"text-align: right;\">                             0</td><td style=\"text-align: right;\">                             0</td><td style=\"text-align: right;\">                        0</td><td style=\"text-align: right;\">                    3</td><td style=\"text-align: right;\">                     0</td><td style=\"text-align: right;\">            18</td><td style=\"text-align: right;\">                348</td><td style=\"text-align: right;\">                22</td><td style=\"text-align: right;\">                  0</td><td style=\"text-align: right;\">                             0</td><td style=\"text-align: right;\">                                    1</td><td style=\"text-align: right;\">                              0</td><td style=\"text-align: right;\">                                       0</td><td style=\"text-align: right;\">                                    0</td><td style=\"text-align: right;\">                                       0</td><td style=\"text-align: right;\">                          0</td><td style=\"text-align: right;\">                          0</td><td style=\"text-align: right;\">                                     0</td><td style=\"text-align: right;\">                                 0</td><td style=\"text-align: right;\">                         0</td><td style=\"text-align: right;\">                  0</td><td style=\"text-align: right;\">                              1</td><td style=\"text-align: right;\">                      0</td><td style=\"text-align: right;\">                      0</td><td style=\"text-align: right;\">                                 0</td><td style=\"text-align: right;\">                                     0</td><td style=\"text-align: right;\">                             0</td><td style=\"text-align: right;\">                               1</td><td style=\"text-align: right;\">                              0</td><td style=\"text-align: right;\">                            1</td><td style=\"text-align: right;\">                                      0</td><td style=\"text-align: right;\">                                   0</td><td style=\"text-align: right;\">                              0</td><td style=\"text-align: right;\">                                   0</td><td style=\"text-align: right;\">                                       1</td><td style=\"text-align: right;\">                      0</td><td style=\"text-align: right;\">                   0</td><td style=\"text-align: right;\">                                   1</td><td style=\"text-align: right;\">                                   0</td><td style=\"text-align: right;\">                     0</td><td style=\"text-align: right;\">                              0</td><td style=\"text-align: right;\">                      1</td><td style=\"text-align: right;\">                        0</td><td style=\"text-align: right;\">                     0</td><td style=\"text-align: right;\">                         0</td><td style=\"text-align: right;\">                                0</td><td style=\"text-align: right;\">                            0</td><td style=\"text-align: right;\">                                   1</td><td style=\"text-align: right;\">                               0</td><td style=\"text-align: right;\">                         0</td><td style=\"text-align: right;\">                         0</td><td style=\"text-align: right;\">                         0</td><td style=\"text-align: right;\">                      1</td><td style=\"text-align: right;\">                                                   0</td><td style=\"text-align: right;\">                           0</td><td style=\"text-align: right;\">                           0</td><td style=\"text-align: right;\">                           0</td><td style=\"text-align: right;\">                                   0</td><td style=\"text-align: right;\">                          0</td><td style=\"text-align: right;\">                               1</td><td style=\"text-align: right;\">                          0</td><td style=\"text-align: right;\">                           0</td><td style=\"text-align: right;\">                           0</td><td style=\"text-align: right;\">                                       0</td><td style=\"text-align: right;\">                                   0</td><td style=\"text-align: right;\">                                            0</td><td style=\"text-align: right;\">                                                          0</td><td style=\"text-align: right;\">                                       1</td><td style=\"text-align: right;\">                                         0</td><td style=\"text-align: right;\">                                       0</td><td style=\"text-align: right;\">                              0</td><td>1f45e8dec7e  </td><td>Grade 5       </td></tr>\n",
       "<tr><td style=\"text-align: right;\">           12</td><td style=\"text-align: right;\">                      0</td><td style=\"text-align: right;\">                                  0</td><td style=\"text-align: right;\">                            0</td><td style=\"text-align: right;\">                                      0</td><td style=\"text-align: right;\">                                0</td><td style=\"text-align: right;\">                                   0</td><td style=\"text-align: right;\">                            0</td><td style=\"text-align: right;\">                                0</td><td style=\"text-align: right;\">                   0</td><td style=\"text-align: right;\">       1230</td><td style=\"text-align: right;\">   123005</td><td style=\"text-align: right;\">               1</td><td style=\"text-align: right;\">                  0</td><td style=\"text-align: right;\">                              0</td><td style=\"text-align: right;\">                        0</td><td style=\"text-align: right;\">                         0</td><td style=\"text-align: right;\">                              0</td><td style=\"text-align: right;\">                         0</td><td style=\"text-align: right;\">                           0</td><td style=\"text-align: right;\">                              0</td><td style=\"text-align: right;\">                             0</td><td style=\"text-align: right;\">                             0</td><td style=\"text-align: right;\">                        0</td><td style=\"text-align: right;\">                    1</td><td style=\"text-align: right;\">                     1</td><td style=\"text-align: right;\">            22</td><td style=\"text-align: right;\">                100</td><td style=\"text-align: right;\">                 7</td><td style=\"text-align: right;\">                  7</td><td style=\"text-align: right;\">                             0</td><td style=\"text-align: right;\">                                    1</td><td style=\"text-align: right;\">                              1</td><td style=\"text-align: right;\">                                       0</td><td style=\"text-align: right;\">                                    0</td><td style=\"text-align: right;\">                                       0</td><td style=\"text-align: right;\">                          1</td><td style=\"text-align: right;\">                          1</td><td style=\"text-align: right;\">                                     1</td><td style=\"text-align: right;\">                                 0</td><td style=\"text-align: right;\">                         0</td><td style=\"text-align: right;\">                  0</td><td style=\"text-align: right;\">                              0</td><td style=\"text-align: right;\">                      1</td><td style=\"text-align: right;\">                      0</td><td style=\"text-align: right;\">                                 0</td><td style=\"text-align: right;\">                                     0</td><td style=\"text-align: right;\">                             0</td><td style=\"text-align: right;\">                               1</td><td style=\"text-align: right;\">                              0</td><td style=\"text-align: right;\">                            1</td><td style=\"text-align: right;\">                                      0</td><td style=\"text-align: right;\">                                   0</td><td style=\"text-align: right;\">                              0</td><td style=\"text-align: right;\">                                   0</td><td style=\"text-align: right;\">                                       1</td><td style=\"text-align: right;\">                      0</td><td style=\"text-align: right;\">                   0</td><td style=\"text-align: right;\">                                   0</td><td style=\"text-align: right;\">                                   1</td><td style=\"text-align: right;\">                     0</td><td style=\"text-align: right;\">                              1</td><td style=\"text-align: right;\">                      0</td><td style=\"text-align: right;\">                        0</td><td style=\"text-align: right;\">                     0</td><td style=\"text-align: right;\">                         0</td><td style=\"text-align: right;\">                                1</td><td style=\"text-align: right;\">                            0</td><td style=\"text-align: right;\">                                   0</td><td style=\"text-align: right;\">                               0</td><td style=\"text-align: right;\">                         0</td><td style=\"text-align: right;\">                         0</td><td style=\"text-align: right;\">                         0</td><td style=\"text-align: right;\">                      1</td><td style=\"text-align: right;\">                                                   0</td><td style=\"text-align: right;\">                           0</td><td style=\"text-align: right;\">                           0</td><td style=\"text-align: right;\">                           0</td><td style=\"text-align: right;\">                                   0</td><td style=\"text-align: right;\">                          0</td><td style=\"text-align: right;\">                               1</td><td style=\"text-align: right;\">                          0</td><td style=\"text-align: right;\">                           0</td><td style=\"text-align: right;\">                           0</td><td style=\"text-align: right;\">                                       0</td><td style=\"text-align: right;\">                                   0</td><td style=\"text-align: right;\">                                            0</td><td style=\"text-align: right;\">                                                          0</td><td style=\"text-align: right;\">                                       0</td><td style=\"text-align: right;\">                                         0</td><td style=\"text-align: right;\">                                       1</td><td style=\"text-align: right;\">                              0</td><td>11e64b184bf  </td><td>Grade 2       </td></tr>\n",
       "<tr><td style=\"text-align: right;\">           24</td><td style=\"text-align: right;\">                      0</td><td style=\"text-align: right;\">                                  0</td><td style=\"text-align: right;\">                            0</td><td style=\"text-align: right;\">                                      0</td><td style=\"text-align: right;\">                                0</td><td style=\"text-align: right;\">                                   0</td><td style=\"text-align: right;\">                            0</td><td style=\"text-align: right;\">                                0</td><td style=\"text-align: right;\">                   0</td><td style=\"text-align: right;\">       2408</td><td style=\"text-align: right;\">   240809</td><td style=\"text-align: right;\">               1</td><td style=\"text-align: right;\">                  0</td><td style=\"text-align: right;\">                              0</td><td style=\"text-align: right;\">                        0</td><td style=\"text-align: right;\">                         0</td><td style=\"text-align: right;\">                              0</td><td style=\"text-align: right;\">                         0</td><td style=\"text-align: right;\">                           0</td><td style=\"text-align: right;\">                              0</td><td style=\"text-align: right;\">                             0</td><td style=\"text-align: right;\">                             0</td><td style=\"text-align: right;\">                        0</td><td style=\"text-align: right;\">                    2</td><td style=\"text-align: right;\">                     0</td><td style=\"text-align: right;\">            22</td><td style=\"text-align: right;\">                392</td><td style=\"text-align: right;\">                17</td><td style=\"text-align: right;\">                  0</td><td style=\"text-align: right;\">                             0</td><td style=\"text-align: right;\">                                    1</td><td style=\"text-align: right;\">                              0</td><td style=\"text-align: right;\">                                       0</td><td style=\"text-align: right;\">                                    0</td><td style=\"text-align: right;\">                                       0</td><td style=\"text-align: right;\">                          0</td><td style=\"text-align: right;\">                          0</td><td style=\"text-align: right;\">                                     0</td><td style=\"text-align: right;\">                                 0</td><td style=\"text-align: right;\">                         0</td><td style=\"text-align: right;\">                  0</td><td style=\"text-align: right;\">                              0</td><td style=\"text-align: right;\">                      1</td><td style=\"text-align: right;\">                      0</td><td style=\"text-align: right;\">                                 0</td><td style=\"text-align: right;\">                                     0</td><td style=\"text-align: right;\">                             0</td><td style=\"text-align: right;\">                               1</td><td style=\"text-align: right;\">                              0</td><td style=\"text-align: right;\">                            1</td><td style=\"text-align: right;\">                                      0</td><td style=\"text-align: right;\">                                   0</td><td style=\"text-align: right;\">                              0</td><td style=\"text-align: right;\">                                   0</td><td style=\"text-align: right;\">                                       1</td><td style=\"text-align: right;\">                      0</td><td style=\"text-align: right;\">                   0</td><td style=\"text-align: right;\">                                   0</td><td style=\"text-align: right;\">                                   1</td><td style=\"text-align: right;\">                     0</td><td style=\"text-align: right;\">                              0</td><td style=\"text-align: right;\">                      1</td><td style=\"text-align: right;\">                        0</td><td style=\"text-align: right;\">                     0</td><td style=\"text-align: right;\">                         0</td><td style=\"text-align: right;\">                                0</td><td style=\"text-align: right;\">                            0</td><td style=\"text-align: right;\">                                   1</td><td style=\"text-align: right;\">                               0</td><td style=\"text-align: right;\">                         0</td><td style=\"text-align: right;\">                         0</td><td style=\"text-align: right;\">                         0</td><td style=\"text-align: right;\">                      1</td><td style=\"text-align: right;\">                                                   0</td><td style=\"text-align: right;\">                           0</td><td style=\"text-align: right;\">                           0</td><td style=\"text-align: right;\">                           0</td><td style=\"text-align: right;\">                                   0</td><td style=\"text-align: right;\">                          0</td><td style=\"text-align: right;\">                               1</td><td style=\"text-align: right;\">                          0</td><td style=\"text-align: right;\">                           0</td><td style=\"text-align: right;\">                           0</td><td style=\"text-align: right;\">                                       0</td><td style=\"text-align: right;\">                                   0</td><td style=\"text-align: right;\">                                            0</td><td style=\"text-align: right;\">                                                          0</td><td style=\"text-align: right;\">                                       0</td><td style=\"text-align: right;\">                                         1</td><td style=\"text-align: right;\">                                       0</td><td style=\"text-align: right;\">                              0</td><td>230ad59877a  </td><td>Grade 5       </td></tr>\n",
       "<tr><td style=\"text-align: right;\">           36</td><td style=\"text-align: right;\">                      1</td><td style=\"text-align: right;\">                                  1</td><td style=\"text-align: right;\">                            0</td><td style=\"text-align: right;\">                                      0</td><td style=\"text-align: right;\">                                0</td><td style=\"text-align: right;\">                                   0</td><td style=\"text-align: right;\">                            0</td><td style=\"text-align: right;\">                                0</td><td style=\"text-align: right;\">                   0</td><td style=\"text-align: right;\">       3642</td><td style=\"text-align: right;\">   364202</td><td style=\"text-align: right;\">               1</td><td style=\"text-align: right;\">                  1</td><td style=\"text-align: right;\">                              0</td><td style=\"text-align: right;\">                        0</td><td style=\"text-align: right;\">                         1</td><td style=\"text-align: right;\">                              0</td><td style=\"text-align: right;\">                         0</td><td style=\"text-align: right;\">                           0</td><td style=\"text-align: right;\">                              0</td><td style=\"text-align: right;\">                             0</td><td style=\"text-align: right;\">                             0</td><td style=\"text-align: right;\">                        0</td><td style=\"text-align: right;\">                    3</td><td style=\"text-align: right;\">                     0</td><td style=\"text-align: right;\">             9</td><td style=\"text-align: right;\">                551</td><td style=\"text-align: right;\">                19</td><td style=\"text-align: right;\">                  0</td><td style=\"text-align: right;\">                             0</td><td style=\"text-align: right;\">                                    1</td><td style=\"text-align: right;\">                              0</td><td style=\"text-align: right;\">                                       0</td><td style=\"text-align: right;\">                                    0</td><td style=\"text-align: right;\">                                       0</td><td style=\"text-align: right;\">                          0</td><td style=\"text-align: right;\">                          0</td><td style=\"text-align: right;\">                                     0</td><td style=\"text-align: right;\">                                 0</td><td style=\"text-align: right;\">                         0</td><td style=\"text-align: right;\">                  0</td><td style=\"text-align: right;\">                              1</td><td style=\"text-align: right;\">                      0</td><td style=\"text-align: right;\">                      0</td><td style=\"text-align: right;\">                                 0</td><td style=\"text-align: right;\">                                     0</td><td style=\"text-align: right;\">                             0</td><td style=\"text-align: right;\">                               1</td><td style=\"text-align: right;\">                              0</td><td style=\"text-align: right;\">                            1</td><td style=\"text-align: right;\">                                      0</td><td style=\"text-align: right;\">                                   0</td><td style=\"text-align: right;\">                              0</td><td style=\"text-align: right;\">                                   0</td><td style=\"text-align: right;\">                                       1</td><td style=\"text-align: right;\">                      0</td><td style=\"text-align: right;\">                   0</td><td style=\"text-align: right;\">                                   0</td><td style=\"text-align: right;\">                                   1</td><td style=\"text-align: right;\">                     0</td><td style=\"text-align: right;\">                              0</td><td style=\"text-align: right;\">                      1</td><td style=\"text-align: right;\">                        0</td><td style=\"text-align: right;\">                     0</td><td style=\"text-align: right;\">                         0</td><td style=\"text-align: right;\">                                0</td><td style=\"text-align: right;\">                            0</td><td style=\"text-align: right;\">                                   0</td><td style=\"text-align: right;\">                               1</td><td style=\"text-align: right;\">                         0</td><td style=\"text-align: right;\">                         0</td><td style=\"text-align: right;\">                         0</td><td style=\"text-align: right;\">                      1</td><td style=\"text-align: right;\">                                                   0</td><td style=\"text-align: right;\">                           0</td><td style=\"text-align: right;\">                           0</td><td style=\"text-align: right;\">                           0</td><td style=\"text-align: right;\">                                   0</td><td style=\"text-align: right;\">                          0</td><td style=\"text-align: right;\">                               1</td><td style=\"text-align: right;\">                          0</td><td style=\"text-align: right;\">                           0</td><td style=\"text-align: right;\">                           0</td><td style=\"text-align: right;\">                                       0</td><td style=\"text-align: right;\">                                   0</td><td style=\"text-align: right;\">                                            0</td><td style=\"text-align: right;\">                                                          0</td><td style=\"text-align: right;\">                                       1</td><td style=\"text-align: right;\">                                         0</td><td style=\"text-align: right;\">                                       0</td><td style=\"text-align: right;\">                              0</td><td>34ff94ef6ee  </td><td>Grade 5       </td></tr>\n",
       "<tr><td style=\"text-align: right;\">           13</td><td style=\"text-align: right;\">                      0</td><td style=\"text-align: right;\">                                  0</td><td style=\"text-align: right;\">                            0</td><td style=\"text-align: right;\">                                      0</td><td style=\"text-align: right;\">                                0</td><td style=\"text-align: right;\">                                   0</td><td style=\"text-align: right;\">                            0</td><td style=\"text-align: right;\">                                0</td><td style=\"text-align: right;\">                   0</td><td style=\"text-align: right;\">       1302</td><td style=\"text-align: right;\">   130205</td><td style=\"text-align: right;\">               1</td><td style=\"text-align: right;\">                  0</td><td style=\"text-align: right;\">                              0</td><td style=\"text-align: right;\">                        0</td><td style=\"text-align: right;\">                         0</td><td style=\"text-align: right;\">                              0</td><td style=\"text-align: right;\">                         0</td><td style=\"text-align: right;\">                           0</td><td style=\"text-align: right;\">                              0</td><td style=\"text-align: right;\">                             0</td><td style=\"text-align: right;\">                             0</td><td style=\"text-align: right;\">                        0</td><td style=\"text-align: right;\">                    2</td><td style=\"text-align: right;\">                     2</td><td style=\"text-align: right;\">            30</td><td style=\"text-align: right;\">                350</td><td style=\"text-align: right;\">                16</td><td style=\"text-align: right;\">                 16</td><td style=\"text-align: right;\">                             0</td><td style=\"text-align: right;\">                                    1</td><td style=\"text-align: right;\">                              0</td><td style=\"text-align: right;\">                                       0</td><td style=\"text-align: right;\">                                    0</td><td style=\"text-align: right;\">                                       0</td><td style=\"text-align: right;\">                          1</td><td style=\"text-align: right;\">                          1</td><td style=\"text-align: right;\">                                     0</td><td style=\"text-align: right;\">                                 0</td><td style=\"text-align: right;\">                         0</td><td style=\"text-align: right;\">                  1</td><td style=\"text-align: right;\">                              0</td><td style=\"text-align: right;\">                      0</td><td style=\"text-align: right;\">                      0</td><td style=\"text-align: right;\">                                 0</td><td style=\"text-align: right;\">                                     0</td><td style=\"text-align: right;\">                             0</td><td style=\"text-align: right;\">                               1</td><td style=\"text-align: right;\">                              0</td><td style=\"text-align: right;\">                            1</td><td style=\"text-align: right;\">                                      0</td><td style=\"text-align: right;\">                                   0</td><td style=\"text-align: right;\">                              0</td><td style=\"text-align: right;\">                                   0</td><td style=\"text-align: right;\">                                       1</td><td style=\"text-align: right;\">                      0</td><td style=\"text-align: right;\">                   0</td><td style=\"text-align: right;\">                                   0</td><td style=\"text-align: right;\">                                   1</td><td style=\"text-align: right;\">                     0</td><td style=\"text-align: right;\">                              0</td><td style=\"text-align: right;\">                      1</td><td style=\"text-align: right;\">                        0</td><td style=\"text-align: right;\">                     0</td><td style=\"text-align: right;\">                         0</td><td style=\"text-align: right;\">                                0</td><td style=\"text-align: right;\">                            0</td><td style=\"text-align: right;\">                                   0</td><td style=\"text-align: right;\">                               1</td><td style=\"text-align: right;\">                         0</td><td style=\"text-align: right;\">                         0</td><td style=\"text-align: right;\">                         0</td><td style=\"text-align: right;\">                      1</td><td style=\"text-align: right;\">                                                   0</td><td style=\"text-align: right;\">                           0</td><td style=\"text-align: right;\">                           0</td><td style=\"text-align: right;\">                           0</td><td style=\"text-align: right;\">                                   0</td><td style=\"text-align: right;\">                          0</td><td style=\"text-align: right;\">                               1</td><td style=\"text-align: right;\">                          0</td><td style=\"text-align: right;\">                           0</td><td style=\"text-align: right;\">                           0</td><td style=\"text-align: right;\">                                       0</td><td style=\"text-align: right;\">                                   1</td><td style=\"text-align: right;\">                                            0</td><td style=\"text-align: right;\">                                                          0</td><td style=\"text-align: right;\">                                       0</td><td style=\"text-align: right;\">                                         0</td><td style=\"text-align: right;\">                                       0</td><td style=\"text-align: right;\">                              0</td><td>12f283a4d56  </td><td>Grade 4       </td></tr>\n",
       "<tr><td style=\"text-align: right;\">           11</td><td style=\"text-align: right;\">                      1</td><td style=\"text-align: right;\">                                  1</td><td style=\"text-align: right;\">                            0</td><td style=\"text-align: right;\">                                      0</td><td style=\"text-align: right;\">                                0</td><td style=\"text-align: right;\">                                   0</td><td style=\"text-align: right;\">                            0</td><td style=\"text-align: right;\">                                0</td><td style=\"text-align: right;\">                   0</td><td style=\"text-align: right;\">       1111</td><td style=\"text-align: right;\">   111102</td><td style=\"text-align: right;\">               1</td><td style=\"text-align: right;\">                  0</td><td style=\"text-align: right;\">                              0</td><td style=\"text-align: right;\">                        0</td><td style=\"text-align: right;\">                         0</td><td style=\"text-align: right;\">                              0</td><td style=\"text-align: right;\">                         0</td><td style=\"text-align: right;\">                           0</td><td style=\"text-align: right;\">                              0</td><td style=\"text-align: right;\">                             0</td><td style=\"text-align: right;\">                             0</td><td style=\"text-align: right;\">                        0</td><td style=\"text-align: right;\">                    2</td><td style=\"text-align: right;\">                     2</td><td style=\"text-align: right;\">            38</td><td style=\"text-align: right;\">                415</td><td style=\"text-align: right;\">                20</td><td style=\"text-align: right;\">                 20</td><td style=\"text-align: right;\">                             0</td><td style=\"text-align: right;\">                                    1</td><td style=\"text-align: right;\">                              0</td><td style=\"text-align: right;\">                                       0</td><td style=\"text-align: right;\">                                    0</td><td style=\"text-align: right;\">                                       0</td><td style=\"text-align: right;\">                          0</td><td style=\"text-align: right;\">                          0</td><td style=\"text-align: right;\">                                     0</td><td style=\"text-align: right;\">                                 0</td><td style=\"text-align: right;\">                         0</td><td style=\"text-align: right;\">                  1</td><td style=\"text-align: right;\">                              0</td><td style=\"text-align: right;\">                      0</td><td style=\"text-align: right;\">                      0</td><td style=\"text-align: right;\">                                 0</td><td style=\"text-align: right;\">                                     0</td><td style=\"text-align: right;\">                             0</td><td style=\"text-align: right;\">                               1</td><td style=\"text-align: right;\">                              0</td><td style=\"text-align: right;\">                            0</td><td style=\"text-align: right;\">                                      1</td><td style=\"text-align: right;\">                                   0</td><td style=\"text-align: right;\">                              0</td><td style=\"text-align: right;\">                                   0</td><td style=\"text-align: right;\">                                       1</td><td style=\"text-align: right;\">                      0</td><td style=\"text-align: right;\">                   0</td><td style=\"text-align: right;\">                                   1</td><td style=\"text-align: right;\">                                   0</td><td style=\"text-align: right;\">                     0</td><td style=\"text-align: right;\">                              1</td><td style=\"text-align: right;\">                      0</td><td style=\"text-align: right;\">                        0</td><td style=\"text-align: right;\">                     0</td><td style=\"text-align: right;\">                         0</td><td style=\"text-align: right;\">                                0</td><td style=\"text-align: right;\">                            0</td><td style=\"text-align: right;\">                                   1</td><td style=\"text-align: right;\">                               0</td><td style=\"text-align: right;\">                         0</td><td style=\"text-align: right;\">                         0</td><td style=\"text-align: right;\">                         0</td><td style=\"text-align: right;\">                      1</td><td style=\"text-align: right;\">                                                   0</td><td style=\"text-align: right;\">                           0</td><td style=\"text-align: right;\">                           0</td><td style=\"text-align: right;\">                           0</td><td style=\"text-align: right;\">                                   0</td><td style=\"text-align: right;\">                          0</td><td style=\"text-align: right;\">                               1</td><td style=\"text-align: right;\">                          0</td><td style=\"text-align: right;\">                           0</td><td style=\"text-align: right;\">                           0</td><td style=\"text-align: right;\">                                       0</td><td style=\"text-align: right;\">                                   1</td><td style=\"text-align: right;\">                                            0</td><td style=\"text-align: right;\">                                                          0</td><td style=\"text-align: right;\">                                       0</td><td style=\"text-align: right;\">                                         0</td><td style=\"text-align: right;\">                                       0</td><td style=\"text-align: right;\">                              0</td><td>102adf3d8ed  </td><td>Grade 4       </td></tr>\n",
       "<tr><td style=\"text-align: right;\">           31</td><td style=\"text-align: right;\">                      0</td><td style=\"text-align: right;\">                                  0</td><td style=\"text-align: right;\">                            0</td><td style=\"text-align: right;\">                                      0</td><td style=\"text-align: right;\">                                0</td><td style=\"text-align: right;\">                                   0</td><td style=\"text-align: right;\">                            0</td><td style=\"text-align: right;\">                                0</td><td style=\"text-align: right;\">                   0</td><td style=\"text-align: right;\">       3111</td><td style=\"text-align: right;\">   311102</td><td style=\"text-align: right;\">               1</td><td style=\"text-align: right;\">                  0</td><td style=\"text-align: right;\">                              0</td><td style=\"text-align: right;\">                        0</td><td style=\"text-align: right;\">                         0</td><td style=\"text-align: right;\">                              0</td><td style=\"text-align: right;\">                         0</td><td style=\"text-align: right;\">                           0</td><td style=\"text-align: right;\">                              0</td><td style=\"text-align: right;\">                             0</td><td style=\"text-align: right;\">                             0</td><td style=\"text-align: right;\">                        0</td><td style=\"text-align: right;\">                    2</td><td style=\"text-align: right;\">                     2</td><td style=\"text-align: right;\">            30</td><td style=\"text-align: right;\">                423</td><td style=\"text-align: right;\">                16</td><td style=\"text-align: right;\">                 16</td><td style=\"text-align: right;\">                             0</td><td style=\"text-align: right;\">                                    0</td><td style=\"text-align: right;\">                              0</td><td style=\"text-align: right;\">                                       0</td><td style=\"text-align: right;\">                                    0</td><td style=\"text-align: right;\">                                       0</td><td style=\"text-align: right;\">                          1</td><td style=\"text-align: right;\">                          1</td><td style=\"text-align: right;\">                                     0</td><td style=\"text-align: right;\">                                 0</td><td style=\"text-align: right;\">                         0</td><td style=\"text-align: right;\">                  1</td><td style=\"text-align: right;\">                              0</td><td style=\"text-align: right;\">                      0</td><td style=\"text-align: right;\">                      0</td><td style=\"text-align: right;\">                                 0</td><td style=\"text-align: right;\">                                     0</td><td style=\"text-align: right;\">                             0</td><td style=\"text-align: right;\">                               1</td><td style=\"text-align: right;\">                              0</td><td style=\"text-align: right;\">                            1</td><td style=\"text-align: right;\">                                      0</td><td style=\"text-align: right;\">                                   0</td><td style=\"text-align: right;\">                              1</td><td style=\"text-align: right;\">                                   0</td><td style=\"text-align: right;\">                                       0</td><td style=\"text-align: right;\">                      0</td><td style=\"text-align: right;\">                   0</td><td style=\"text-align: right;\">                                   1</td><td style=\"text-align: right;\">                                   0</td><td style=\"text-align: right;\">                     0</td><td style=\"text-align: right;\">                              0</td><td style=\"text-align: right;\">                      1</td><td style=\"text-align: right;\">                        0</td><td style=\"text-align: right;\">                     0</td><td style=\"text-align: right;\">                         0</td><td style=\"text-align: right;\">                                0</td><td style=\"text-align: right;\">                            0</td><td style=\"text-align: right;\">                                   0</td><td style=\"text-align: right;\">                               1</td><td style=\"text-align: right;\">                         0</td><td style=\"text-align: right;\">                         0</td><td style=\"text-align: right;\">                         0</td><td style=\"text-align: right;\">                      1</td><td style=\"text-align: right;\">                                                   0</td><td style=\"text-align: right;\">                           0</td><td style=\"text-align: right;\">                           0</td><td style=\"text-align: right;\">                           0</td><td style=\"text-align: right;\">                                   0</td><td style=\"text-align: right;\">                          0</td><td style=\"text-align: right;\">                               1</td><td style=\"text-align: right;\">                          0</td><td style=\"text-align: right;\">                           0</td><td style=\"text-align: right;\">                           0</td><td style=\"text-align: right;\">                                       0</td><td style=\"text-align: right;\">                                   0</td><td style=\"text-align: right;\">                                            0</td><td style=\"text-align: right;\">                                                          0</td><td style=\"text-align: right;\">                                       0</td><td style=\"text-align: right;\">                                         0</td><td style=\"text-align: right;\">                                       1</td><td style=\"text-align: right;\">                              0</td><td>2d4574173f1  </td><td>Grade 3       </td></tr>\n",
       "</tbody>\n",
       "</table>"
      ]
     },
     "metadata": {},
     "output_type": "display_data"
    },
    {
     "data": {
      "text/plain": []
     },
     "execution_count": 31,
     "metadata": {},
     "output_type": "execute_result"
    }
   ],
   "source": []
  }
 ],
 "metadata": {
  "kernelspec": {
   "display_name": "Python 3",
   "language": "python",
   "name": "python3"
  },
  "language_info": {
   "codemirror_mode": {
    "name": "ipython",
    "version": 3
   },
   "file_extension": ".py",
   "mimetype": "text/x-python",
   "name": "python",
   "nbconvert_exporter": "python",
   "pygments_lexer": "ipython3",
   "version": "3.6.3"
  }
 },
 "nbformat": 4,
 "nbformat_minor": 2
}
